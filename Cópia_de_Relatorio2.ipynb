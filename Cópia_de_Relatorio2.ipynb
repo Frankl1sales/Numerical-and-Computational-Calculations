{
  "cells": [
    {
      "cell_type": "markdown",
      "metadata": {
        "id": "uXkXrVrg2BQs"
      },
      "source": [
        "# Métodos"
      ]
    },
    {
      "cell_type": "markdown",
      "metadata": {
        "id": "m6lzfrupmEi5"
      },
      "source": [
        "## Bibliotecas"
      ]
    },
    {
      "cell_type": "code",
      "execution_count": null,
      "metadata": {
        "id": "-9J6D_T7l8yG"
      },
      "outputs": [],
      "source": [
        "import numpy as np\n",
        "import math\n",
        "import matplotlib.pyplot as plt"
      ]
    },
    {
      "cell_type": "markdown",
      "metadata": {
        "id": "7W_2BczL2Lak"
      },
      "source": [
        "## Métodos Diretos"
      ]
    },
    {
      "cell_type": "markdown",
      "metadata": {
        "id": "EmIQIziYmRfQ"
      },
      "source": [
        "### Eliminação de Gauss Sem Pivot\n",
        "\n",
        "\n"
      ]
    },
    {
      "cell_type": "code",
      "execution_count": null,
      "metadata": {
        "id": "bxo7-z4cmWO4"
      },
      "outputs": [],
      "source": [
        "def gauss_elimination(A, B):\n",
        "    n = len(B)\n",
        "\n",
        "    # elimination phase\n",
        "    for k in range(n - 1):\n",
        "        for i in range(k + 1, n):\n",
        "            try:\n",
        "                if A[k, k] == 0:\n",
        "                    raise ValueError(\"Elemento pivô é zero. A matriz pode ser singular ou precisar de troca de linhas.\")\n",
        "\n",
        "                m = A[i, k] / A[k, k]\n",
        "                A[i, k] = 0\n",
        "\n",
        "                # para evitar o erro de ponto flutuante\n",
        "                m = round(m, 4)\n",
        "\n",
        "                for j in range(k + 1, n):\n",
        "                    A[i, j] -= m * A[k, j]\n",
        "                B[i] -= m * B[k]\n",
        "\n",
        "                #print(\"---------------------\")\n",
        "                #print(f\"Após a etapa {k+1}:\")\n",
        "                #print(\"m: \")\n",
        "                #print(m)\n",
        "                #print(\"Matriz A:\")\n",
        "                #print(A)\n",
        "                #print(\"Vetor B:\")\n",
        "                #print(B)\n",
        "                #print(\"---------------------\")\n",
        "                #print(\"\\n\")\n",
        "            except ValueError as e:\n",
        "                print(f\"Erro: {e}. Continuando para a próxima iteração.\")\n",
        "                continue\n",
        "\n",
        "    return A, B\n"
      ]
    },
    {
      "cell_type": "markdown",
      "metadata": {
        "id": "SXI-yRdXqb3n"
      },
      "source": [
        "**Comentário:** Foi preciso colocar *m = round(m, 4)* na linha anterior as modificações na matriz A e no vetor B, pois estava apresentando erro devido aos cálculos em ponto fluente, onde operações com divisões e subtrações podem resultar em pequenos erros de arrendondamento"
      ]
    },
    {
      "cell_type": "code",
      "execution_count": null,
      "metadata": {
        "id": "TstV8-jd7BnK"
      },
      "outputs": [],
      "source": [
        "def gauss_final(A,B,n):\n",
        "  A_triangular, b_modificado = gauss_elimination(A, B)\n",
        "  x_n = np.linalg.solve(A_triangular, b_modificado)\n",
        "  return x_n"
      ]
    },
    {
      "cell_type": "code",
      "execution_count": null,
      "metadata": {
        "colab": {
          "base_uri": "https://localhost:8080/"
        },
        "id": "NOqiLO5gpphU",
        "outputId": "133092d8-1151-4408-92f0-100a4dd34f24"
      },
      "outputs": [
        {
          "output_type": "stream",
          "name": "stdout",
          "text": [
            "x solução:\n",
            "[-2.99940012  4.99910018 -0.        ]\n"
          ]
        }
      ],
      "source": [
        "# Exemplo de uso\n",
        "A = np.array([[3, 2, 4],\n",
        "              [1, 1, 2],\n",
        "              [4, 3, -2]], dtype=float)\n",
        "\n",
        "B = np.array([1, 2, 3], dtype=float)\n",
        "n = len(B)\n",
        "\n",
        "# Configurando o número de casas decimais\n",
        "\n",
        "\n",
        "x = gauss_final(A, B,n)\n",
        "\n",
        "print(\"x solução:\")\n",
        "print(x)\n"
      ]
    },
    {
      "cell_type": "markdown",
      "metadata": {
        "id": "H4btonR24U1e"
      },
      "source": [
        "### Eliminação de Gauss Com Piv"
      ]
    },
    {
      "cell_type": "code",
      "execution_count": null,
      "metadata": {
        "id": "HpmfSNIG4bvK"
      },
      "outputs": [],
      "source": [
        "def gauss_pivot(A, B):\n",
        "    A = A.astype(float)\n",
        "    B = B.astype(float)\n",
        "    n = len(B)\n",
        "\n",
        "    for k in range(n):\n",
        "        # Encontra o maior valor absoluto na coluna k a partir da linha k\n",
        "        pivo = np.abs(A[k:, k]).max()\n",
        "        linhaPivo = np.abs(A[k:, k]).argmax() + k\n",
        "\n",
        "        if A[linhaPivo, k] == 0:\n",
        "            raise ValueError(\"Elemento pivô é zero. A matriz pode ser singular ou precisar de troca de linhas.\")\n",
        "\n",
        "        # Permuta as linhas\n",
        "        if linhaPivo != k:\n",
        "            A[[k, linhaPivo]] = A[[linhaPivo, k]]\n",
        "            B[[k, linhaPivo]] = B[[linhaPivo, k]]\n",
        "\n",
        "        # Eliminação Gaussiana\n",
        "        for i in range(k+1, n):\n",
        "            m = A[i, k] / A[k, k]\n",
        "            A[i, k:] -= m * A[k, k:]\n",
        "            B[i] -= m * B[k]\n",
        "\n",
        "    return A, B"
      ]
    },
    {
      "cell_type": "code",
      "execution_count": null,
      "metadata": {
        "id": "rA7yeG0L_Hiw"
      },
      "outputs": [],
      "source": [
        "def gauss_pivot_final(A,B,n):\n",
        "  A_triangular, b_modificado = gauss_pivot(A, B)\n",
        "  x_n = np.linalg.solve(A_triangular, b_modificado)\n",
        "  return x_n"
      ]
    },
    {
      "cell_type": "code",
      "execution_count": null,
      "metadata": {
        "colab": {
          "base_uri": "https://localhost:8080/"
        },
        "id": "qs6I8_EpAn2B",
        "outputId": "3f7f9e4b-e922-4555-bb1a-41bac07e9c1f"
      },
      "outputs": [
        {
          "output_type": "stream",
          "name": "stdout",
          "text": [
            "x solucao\n",
            "[0.50005001 2.49994999]\n"
          ]
        }
      ],
      "source": [
        "# Exemplo de uso\n",
        "A = np.array([[0.0002, 2.0],\n",
        "              [2.0, 2.0]], dtype=float)\n",
        "\n",
        "B = np.array([5.0, 6.0], dtype=float)\n",
        "n = len(B)\n",
        "\n",
        "# Configurando o número de casas decimais\n",
        "\n",
        "\n",
        "x_n_pivo = gauss_pivot_final(A, B,n)\n",
        "\n",
        "print(\"x solucao\")\n",
        "print(x_n_pivo)"
      ]
    },
    {
      "cell_type": "markdown",
      "metadata": {
        "id": "zLlT9JTl9dlD"
      },
      "source": [
        "### Fatoração LU sem Pivotamento"
      ]
    },
    {
      "cell_type": "code",
      "execution_count": null,
      "metadata": {
        "id": "-c1aq2kj9hU9"
      },
      "outputs": [],
      "source": [
        "def lu_decomposition(A):\n",
        "    n = A.shape[0]\n",
        "\n",
        "    L = np.eye(n)  # Inicializa L como matriz identidade\n",
        "    U = A.copy()   # Inicializa U como uma cópia de A\n",
        "\n",
        "    for k in range(n):\n",
        "        if U[k, k] == 0:\n",
        "            raise ValueError(\"Zero pivot encountered.\")\n",
        "\n",
        "        for i in range(k+1, n):\n",
        "            L[i, k] = U[i, k] / U[k, k]\n",
        "            U[i, k:] = U[i, k:] - L[i, k] * U[k, k:]\n",
        "            # para evitar o erro de ponto flutuante\n",
        "            U = np.around(U, 4)\n",
        "\n",
        "    return L, U\n",
        "\n",
        "\n"
      ]
    },
    {
      "cell_type": "code",
      "execution_count": null,
      "metadata": {
        "id": "KToTf7r-Dmqe"
      },
      "outputs": [],
      "source": [
        "def LU_final(A,B):\n",
        "  L, U = lu_decomposition(A)\n",
        "  y = np.linalg.solve(L,B)\n",
        "  x_n = np.linalg.solve(U, y)\n",
        "  return x_n"
      ]
    },
    {
      "cell_type": "code",
      "execution_count": null,
      "metadata": {
        "colab": {
          "base_uri": "https://localhost:8080/"
        },
        "id": "K1hC--cwCaSg",
        "outputId": "8b425f8b-0806-4dd9-88ec-45ad625acef7"
      },
      "outputs": [
        {
          "output_type": "stream",
          "name": "stdout",
          "text": [
            "x solucao:\n",
            "[-3.00033337  5.00050005  0.        ]\n"
          ]
        }
      ],
      "source": [
        "# Exemplo de uso\n",
        "A = np.array([[3, 2, 4],\n",
        "              [1, 1, 2],\n",
        "              [4, 3, 2]], dtype=float)\n",
        "\n",
        "B = np.array([1, 2, 3], dtype=float)\n",
        "\n",
        "x = LU_final(A,B)\n",
        "\n",
        "print(\"x solucao:\")\n",
        "print(x)"
      ]
    },
    {
      "cell_type": "markdown",
      "metadata": {
        "id": "qfQa-qrb66NJ"
      },
      "source": [
        "### Fatoração LU com pivotamento"
      ]
    },
    {
      "cell_type": "code",
      "execution_count": null,
      "metadata": {
        "id": "z1psCJp7xEq3"
      },
      "outputs": [],
      "source": [
        "def lu_decomposition_with_pivoting(A):\n",
        "    n = A.shape[0]\n",
        "\n",
        "    L = np.eye(n)\n",
        "    U = A.copy()\n",
        "    P = np.eye(n)\n",
        "\n",
        "    for k in range(n):\n",
        "        # Encontra o índice do maior valor em módulo na coluna k\n",
        "        pivot = np.argmax(np.abs(U[k:, k])) + k\n",
        "        if U[pivot, k] == 0:\n",
        "            raise ValueError(\"Zero pivot encountered.\")\n",
        "\n",
        "        # Troca as linhas em U e P\n",
        "        U[[k, pivot]] = U[[pivot, k]]\n",
        "        P[[k, pivot]] = P[[pivot, k]]\n",
        "        #L[[k, pivot]] = L[[pivot, k]]\n",
        "        #if k > 0:\n",
        "        L[[k, pivot], :k] = L[[pivot, k], :k]\n",
        "\n",
        "        for i in range(k+1, n):\n",
        "            L[i, k] = U[i, k] / U[k, k]\n",
        "            U[i, k:] = U[i, k:] - L[i, k] * U[k, k:]\n",
        "\n",
        "    return P, L, U\n",
        "\n",
        "\n"
      ]
    },
    {
      "cell_type": "code",
      "execution_count": null,
      "metadata": {
        "id": "ven9fhBqIpKr"
      },
      "outputs": [],
      "source": [
        "def lu_decomposition_with_pivoting_final(A,B):\n",
        "  P, L, U = lu_decomposition_with_pivoting(A)\n",
        "  #Ly = Pb\n",
        "  Pb = np.dot(P,B)\n",
        "  print(\"Matriz Ly:\")\n",
        "  print(Pb)\n",
        "\n",
        "  y = np.linalg.solve(L,Pb)\n",
        "  print(\"Matriz y:\")\n",
        "  print(y)\n",
        "  x_n_pivo = np.linalg.solve(U, y)\n",
        "\n",
        "  return x_n_pivo"
      ]
    },
    {
      "cell_type": "code",
      "execution_count": null,
      "metadata": {
        "colab": {
          "base_uri": "https://localhost:8080/"
        },
        "id": "LOzB--gzIlpH",
        "outputId": "4a07f823-ffe0-4dd5-ae70-343d64fa0a13"
      },
      "outputs": [
        {
          "output_type": "stream",
          "name": "stdout",
          "text": [
            "Matriz Ly:\n",
            "[-2.  9.  3.]\n",
            "Matriz y:\n",
            "[-2.   10.5   8.75]\n",
            "x solucao:\n",
            "[ 1. -1.  2.]\n"
          ]
        }
      ],
      "source": [
        "# Exemplo de uso\n",
        "A = np.array([[3, -4, 1],\n",
        "              [1, 2, 2],\n",
        "              [4, 0, -3]], dtype=float)\n",
        "\n",
        "B = np.array([9, 3, -2], dtype=float)\n",
        "\n",
        "x_n_pivo = lu_decomposition_with_pivoting_final(A, B)\n",
        "\n",
        "print(\"x solucao:\")\n",
        "print(x_n_pivo)\n"
      ]
    },
    {
      "cell_type": "markdown",
      "metadata": {
        "id": "SYJKvEgI0rFy"
      },
      "source": [
        "### Fatoração de Cholesky sem Pivotamento"
      ]
    },
    {
      "cell_type": "code",
      "execution_count": null,
      "metadata": {
        "id": "RDKD6N21arCv"
      },
      "outputs": [],
      "source": [
        "def cholesky_factor_withoutpivo(n, A):\n",
        "    Det = 1\n",
        "    Info = 0\n",
        "\n",
        "    for j in range(n):\n",
        "        Soma = 0\n",
        "        for k in range(j):\n",
        "            Soma += A[j, k] * A[j, k]\n",
        "\n",
        "        t = A[j, j] - Soma\n",
        "        if t > 0:\n",
        "            A[j, j] = np.sqrt(t)\n",
        "            r = 1 / A[j, j]\n",
        "            Det *= t\n",
        "        else:\n",
        "            Info = j + 1\n",
        "            print(\"Matriz não é definida positiva\")\n",
        "            return A, Det, Info\n",
        "\n",
        "        for i in range(j + 1, n):\n",
        "            Soma = 0\n",
        "            for k in range(j):\n",
        "                Soma += A[i, k] * A[j, k]\n",
        "\n",
        "            A[i, j] = (A[i, j] - Soma) * r\n",
        "\n",
        "    # Zerando a parte superior de A para visualizar L mais facilmente\n",
        "    for j in range(n):\n",
        "        for i in range(j+1, n):\n",
        "            A[j, i] = 0\n",
        "\n",
        "    return A"
      ]
    },
    {
      "cell_type": "code",
      "execution_count": null,
      "metadata": {
        "id": "56k313wWN1wm"
      },
      "outputs": [],
      "source": [
        "def criterio_simetria(A):\n",
        "  n = A.shape[0]\n",
        "  for i in range(n):\n",
        "    for j in range(i+1,n):\n",
        "      if A[i,j] != A[j,i]:\n",
        "        return False\n",
        "  return True"
      ]
    },
    {
      "cell_type": "code",
      "execution_count": null,
      "metadata": {
        "id": "B5HkksSj0il7"
      },
      "outputs": [],
      "source": [
        "def cholesky_decomposition(n, A, B):\n",
        "    try:\n",
        "        simetria = criterio_simetria(A)\n",
        "        if not simetria:\n",
        "            raise ValueError(\"A matriz não é simétrica\")\n",
        "\n",
        "        L = cholesky_factor_withoutpivo(n, A)\n",
        "        print(\"Matriz L:\\n\", L)\n",
        "        y_L = np.linalg.solve(L, B)\n",
        "\n",
        "        T_L = np.transpose(L)\n",
        "        x_L = np.linalg.solve(T_L, y_L)\n",
        "        print(f\"Solução x_cholesky: {x_L}\")\n",
        "    except Exception as e:\n",
        "        print(f\"Erro: {e}\")\n"
      ]
    },
    {
      "cell_type": "code",
      "execution_count": null,
      "metadata": {
        "colab": {
          "base_uri": "https://localhost:8080/"
        },
        "id": "ouN9h4ifzcEL",
        "outputId": "c436ba93-45a4-4158-8aaa-01e505a2b62c"
      },
      "outputs": [
        {
          "output_type": "stream",
          "name": "stdout",
          "text": [
            "Matriz L:\n",
            " [[ 1.          0.          0.        ]\n",
            " [ 1.          1.          0.        ]\n",
            " [ 0.         -1.          1.41421356]]\n",
            "Solução x_cholesky: [1. 1. 2.]\n"
          ]
        }
      ],
      "source": [
        "# Exemplo de uso\n",
        "A = np.array([[1, 1, 0],\n",
        "              [1, 2, -1],\n",
        "              [0, -1, 3]], dtype=float)\n",
        "n = A.shape[0]\n",
        "B = np.array([2, 1, 5], dtype=float)\n",
        "cholesky_decomposition(n, A, B)\n"
      ]
    },
    {
      "cell_type": "markdown",
      "metadata": {
        "id": "WA4FRyHCTxu9"
      },
      "source": [
        "### Fatoração de Cholesky com pivo"
      ]
    },
    {
      "cell_type": "code",
      "execution_count": null,
      "metadata": {
        "id": "YYJXM2Tasqgy"
      },
      "outputs": [],
      "source": [
        "def cholesky_factors(n, A):\n",
        "    P = np.eye(n)  # Matriz de permutação\n",
        "    Det = 1\n",
        "    Info = 0\n",
        "\n",
        "    for j in range(n):\n",
        "        # Pivotamento: encontrar o índice com o maior valor diagonal\n",
        "        max_index = np.argmax(np.abs(A[j:n, j])) + j\n",
        "\n",
        "        # Trocar linhas e colunas\n",
        "        if j != max_index:\n",
        "            A[[j, max_index], :] = A[[max_index, j], :]\n",
        "            A[:, [j, max_index]] = A[:, [max_index, j]]\n",
        "            P[[j, max_index], :] = P[[max_index, j], :]\n",
        "\n",
        "        Soma = 0\n",
        "        for k in range(j):\n",
        "            Soma += A[j, k] * A[j, k]\n",
        "\n",
        "        t = A[j, j] - Soma\n",
        "        if t > 0:\n",
        "            A[j, j] = np.sqrt(t)\n",
        "            r = 1 / A[j, j]\n",
        "            Det *= t\n",
        "        else:\n",
        "            Info = j + 1\n",
        "            print(\"Matriz não é definida positiva\")\n",
        "            return A, P, Det, Info\n",
        "\n",
        "        for i in range(j + 1, n):\n",
        "            Soma = 0\n",
        "            for k in range(j):\n",
        "                Soma += A[i, k] * A[j, k]\n",
        "\n",
        "            A[i, j] = (A[i, j] - Soma) * r\n",
        "\n",
        "    # Zerando a parte superior de A para visualizar L mais facilmente\n",
        "    for j in range(n):\n",
        "        for i in range(j + 1, n):\n",
        "            A[j, i] = 0\n",
        "\n",
        "    return A, P, Det, Info"
      ]
    },
    {
      "cell_type": "code",
      "execution_count": null,
      "metadata": {
        "id": "4DM4nH-NvuMO"
      },
      "outputs": [],
      "source": [
        "def cholesky_pivoting(n, A, B):\n",
        "    try:\n",
        "        simetria = criterio_simetria(A)\n",
        "        if not simetria:\n",
        "            raise ValueError(\"A matriz não é simétrica\")\n",
        "\n",
        "        # Calling cholesky_factors instead of itself recursively\n",
        "        L, P, Det, Info = cholesky_factors(n, A.copy()) # Creating a copy of A to avoid modifying the original\n",
        "        # Aplicando a matriz de permutação P ao vetor B\n",
        "        B_permuted = P @ B\n",
        "\n",
        "        # Resolvendo L y = B_permuted\n",
        "        y = np.linalg.solve(L, B_permuted)\n",
        "\n",
        "        # Resolvendo L^T x = y para obter x\n",
        "        x = np.linalg.solve(L.T, y)\n",
        "        print(\"Matriz L:\\n\", L)\n",
        "        print(\"Matriz de Permutação P:\\n\", P)\n",
        "        print(\"Determinante:\", Det)\n",
        "        print(\"Info:\", Info)\n",
        "        return x\n",
        "    except Exception as e:\n",
        "        print(f\"Erro: {e}\")"
      ]
    },
    {
      "cell_type": "code",
      "execution_count": null,
      "metadata": {
        "colab": {
          "base_uri": "https://localhost:8080/"
        },
        "id": "qaYL6bX8w4eF",
        "outputId": "114b6a96-109b-4b83-e66e-915c10806a57"
      },
      "outputs": [
        {
          "output_type": "stream",
          "name": "stdout",
          "text": [
            "Matriz L:\n",
            " [[ 1.          0.          0.        ]\n",
            " [ 1.          1.          0.        ]\n",
            " [ 0.         -1.          1.41421356]]\n",
            "Matriz de Permutação P:\n",
            " [[1. 0. 0.]\n",
            " [0. 1. 0.]\n",
            " [0. 0. 1.]]\n",
            "Determinante: 2.0\n",
            "Info: 0\n",
            "Solução x_cholesky: [1. 1. 2.]\n"
          ]
        }
      ],
      "source": [
        "# Exemplo de uso Cholesky pivotamento\n",
        "A = np.array([[1, 1, 0],\n",
        "              [1, 2, -1],\n",
        "              [0, -1, 3]], dtype=float)\n",
        "n = A.shape[0]\n",
        "B = np.array([2, 1, 5], dtype=float)\n",
        "\n",
        "x_cholesky = cholesky_pivoting(n, A, B)\n",
        "print(\"Solução x_cholesky:\", x_cholesky)"
      ]
    },
    {
      "cell_type": "markdown",
      "metadata": {
        "id": "3YIVsId12lJq"
      },
      "source": [
        "## Métodos Iterativos"
      ]
    },
    {
      "cell_type": "markdown",
      "source": [
        "### Análise de convergência"
      ],
      "metadata": {
        "id": "JVCUBXX23-v3"
      }
    },
    {
      "cell_type": "code",
      "execution_count": null,
      "metadata": {
        "id": "nVbE3DlQvqNL"
      },
      "outputs": [],
      "source": [
        "def is_diagonally_dominant(A):\n",
        "    \"\"\" Verifica se a matriz A é diagonalmente dominante \"\"\"\n",
        "    n = A.shape[0]\n",
        "    for i in range(n):\n",
        "        sum_row = sum(abs(A[i, j]) for j in range(n) if j != i)\n",
        "        if abs(A[i, i]) < sum_row:\n",
        "            return False\n",
        "    return True\n",
        "\n",
        "def spectral_radius(T):\n",
        "    \"\"\" Calcula o raio espectral da matriz T \"\"\"\n",
        "    eigenvalues = np.linalg.eigvals(T)\n",
        "    return max(abs(eigenvalues))\n",
        "\n",
        "def analyze_convergence(A):\n",
        "    \"\"\" Analisa as condições de convergência \"\"\"\n",
        "    n = A.shape[0]\n",
        "    D = np.diag(np.diag(A))\n",
        "    L = np.tril(A, -1)\n",
        "    U = np.triu(A, 1)\n",
        "    T = np.dot(np.linalg.inv(D), (L + U))\n",
        "    rho = spectral_radius(T)\n",
        "    return is_diagonally_dominant(A), rho"
      ]
    },
    {
      "cell_type": "code",
      "source": [
        "# Exemplo de uso:\n",
        "A = np.array([[10, 2, 1],\n",
        "              [1, 5, 1],\n",
        "              [2, 3, 10]], dtype=float)\n",
        "\n",
        "b = np.array([7, -8, 6], dtype=float)\n",
        "\n",
        "x0 = np.zeros_like(b)\n",
        "# Análise de convergência\n",
        "is_dd, rho = analyze_convergence(A)\n",
        "print(\"A matriz é diagonalmente dominante? {}\".format('Sim' if is_dd else 'Não'))\n",
        "print(\"Raio espectral da matriz de iteração: {}\".format(rho))"
      ],
      "metadata": {
        "colab": {
          "base_uri": "https://localhost:8080/"
        },
        "id": "vNGM9Y0Ijhfz",
        "outputId": "d660e539-9131-4e0e-ae89-d223702fb359"
      },
      "execution_count": null,
      "outputs": [
        {
          "output_type": "stream",
          "name": "stdout",
          "text": [
            "A matriz é diagonalmente dominante? Sim\n",
            "Raio espectral da matriz de iteração: 0.39433809125626185\n"
          ]
        }
      ]
    },
    {
      "cell_type": "markdown",
      "metadata": {
        "id": "FwMAsuCo225d"
      },
      "source": [
        "### Gauss-Jacobi"
      ]
    },
    {
      "cell_type": "code",
      "execution_count": null,
      "metadata": {
        "id": "8_xaz6HT25F2"
      },
      "outputs": [],
      "source": [
        "def jacobi(A, b, x0, Toler=0.05, IterMax=100):\n",
        "    n = len(b)\n",
        "    x = x0.copy()\n",
        "    x_new = np.zeros_like(x)\n",
        "    iter_list = []\n",
        "\n",
        "    Iter = 0\n",
        "    while True:\n",
        "        Iter += 1\n",
        "        for i in range(n):\n",
        "            Soma = 0\n",
        "            for j in range(n):\n",
        "                if i != j:\n",
        "                    Soma += A[i, j] * x[j]\n",
        "            x_new[i] = (b[i] - Soma) / A[i, i]\n",
        "        iter_list.append(x_new.copy())\n",
        "\n",
        "        # Verifica a norma relativa\n",
        "        NormaNum = 0\n",
        "        NormaDen = 0\n",
        "        for i in range(n):\n",
        "            t = abs(x_new[i] - x[i])\n",
        "            if t > NormaNum:\n",
        "                NormaNum = t\n",
        "            if abs(x_new[i]) > NormaDen:\n",
        "                NormaDen = abs(x_new[i])\n",
        "        NormaRel = NormaNum / NormaDen\n",
        "\n",
        "        x = x_new.copy()\n",
        "\n",
        "        print(f\"Iteração {Iter}: x = {x}, NormaRel = {NormaRel}\")\n",
        "\n",
        "        # Critério de convergência\n",
        "        if NormaRel <= Toler or Iter >= IterMax:\n",
        "            break\n",
        "\n",
        "    Info = 0 if NormaRel <= Toler else 1\n",
        "    return x, Iter, Info, iter_list\n"
      ]
    },
    {
      "cell_type": "code",
      "execution_count": null,
      "metadata": {
        "colab": {
          "base_uri": "https://localhost:8080/"
        },
        "id": "0CqWmbci3CzD",
        "outputId": "e95cc4e3-c163-4d33-b7b5-6d1dc11ed9c2"
      },
      "outputs": [
        {
          "output_type": "stream",
          "name": "stdout",
          "text": [
            "Iteração 1: x = [ 0.7 -1.6  0.6], NormaRel = 1.0\n",
            "Iteração 2: x = [ 0.96 -1.86  0.94], NormaRel = 0.18279569892473121\n",
            "Iteração 3: x = [ 0.978 -1.98   0.966], NormaRel = 0.060606060606060545\n",
            "Iteração 4: x = [ 0.9994 -1.9888  0.9984], NormaRel = 0.016291230893000743\n",
            "Solução x: [ 0.9994 -1.9888  0.9984]\n",
            "Número de iterações: 4\n",
            "Informação de convergência: Convergiu\n"
          ]
        }
      ],
      "source": [
        "# Resolução usando Jacobi\n",
        "try:\n",
        "    x_jacobi, Iter_jacobi, Info, iter_jacobi = jacobi(A, b, x0,0.05, 100)\n",
        "    print(\"Solução x:\", x_jacobi)\n",
        "    print(\"Número de iterações:\", Iter_jacobi)\n",
        "    print(\"Informação de convergência:\", \"Convergiu\" if Info == 0 else \"Não convergiu\")\n",
        "except ValueError as e:\n",
        "    print(\"Erro:\", e)"
      ]
    },
    {
      "cell_type": "markdown",
      "metadata": {
        "id": "AFJ-baVvqBGS"
      },
      "source": [
        "### Gauss-Seidel"
      ]
    },
    {
      "cell_type": "code",
      "execution_count": null,
      "metadata": {
        "id": "yXmyVNYmqFHd"
      },
      "outputs": [],
      "source": [
        "def seidel(A, b, x0, Toler=0.05, IterMax=100):\n",
        "    n = len(b)\n",
        "    x = x0.copy()\n",
        "    x_new = np.zeros_like(x)\n",
        "    iter_list = []\n",
        "\n",
        "    Iter = 0\n",
        "    while True:\n",
        "        Iter += 1\n",
        "        NormaNum = 0\n",
        "        NormaDen = 0\n",
        "\n",
        "        for i in range(n):\n",
        "            Soma = 0\n",
        "            for j in range(n):\n",
        "                if i != j:\n",
        "                    Soma += A[i, j] * x[j]\n",
        "\n",
        "            x_new[i] = x[i]\n",
        "            x[i] = (b[i] - Soma) / A[i, i]\n",
        "            t = abs(x_new[i] - x[i])\n",
        "            if t > NormaNum:\n",
        "                NormaNum = t\n",
        "            if abs(x[i]) > NormaDen:\n",
        "                NormaDen = abs(x[i])\n",
        "\n",
        "        iter_list.append(x.copy())\n",
        "        NormaRel = NormaNum / NormaDen\n",
        "\n",
        "        print(f\"Iteração {Iter}: x = {x}, NormaRel = {NormaRel}\")\n",
        "\n",
        "        # Critério de convergência\n",
        "        if NormaRel <= Toler or Iter >= IterMax:\n",
        "            break\n",
        "\n",
        "    Info = 0 if NormaRel <= Toler else 1\n",
        "    return x, Iter, Info, iter_list\n"
      ]
    },
    {
      "cell_type": "code",
      "execution_count": null,
      "metadata": {
        "colab": {
          "base_uri": "https://localhost:8080/"
        },
        "id": "jY75aaXVue7Z",
        "outputId": "1a0650de-807c-4ad7-93f5-0d24373a0660"
      },
      "outputs": [
        {
          "output_type": "stream",
          "name": "stdout",
          "text": [
            "Iteração 1: x = [ 0.7   -1.74   0.982], NormaRel = 1.0\n",
            "Iteração 2: x = [ 0.9498   -1.98636   1.005948], NormaRel = 0.1257576672909241\n",
            "Iteração 3: x = [ 0.9966772  -2.00052504  1.00082207], NormaRel = 0.02343244851361618\n",
            "\n",
            "Solução aproximada: [ 0.9966772  -2.00052504  1.00082207]\n",
            "Número de iterações: 3\n",
            "Convergiu.\n"
          ]
        }
      ],
      "source": [
        "# Exemplo de uso:\n",
        "A = np.array([[10, 2, 1],\n",
        "              [1, 5, 1],\n",
        "              [2, 3, 10]], dtype=float)\n",
        "\n",
        "b = np.array([7, -8, 6], dtype=float)\n",
        "\n",
        "x0 = np.zeros_like(b)\n",
        "x_seidel, Iter_seidel, info, iter_seidel = seidel(A, b, x0)\n",
        "\n",
        "print(\"\\nSolução aproximada:\", x_seidel)\n",
        "print(\"Número de iterações:\", Iter_seidel)\n",
        "\n",
        "if info == 0:\n",
        "    print(\"Convergiu.\")\n",
        "else:\n",
        "    print(\"Não convergiu dentro do número máximo de iterações.\")"
      ]
    },
    {
      "cell_type": "markdown",
      "source": [
        "## Geração de Gráfico"
      ],
      "metadata": {
        "id": "ofiQQbrRbBYg"
      }
    },
    {
      "cell_type": "code",
      "source": [
        "def plot_iterations_gs_jacobi(iter_jacobi, iter_seidel, inicio, fim, nro_pts):\n",
        "    # Prepare x and y values for plotting\n",
        "    iter_jacobi_x = [x[0] for x in iter_jacobi]\n",
        "    iter_jacobi_y = [x[1] for x in iter_jacobi]\n",
        "\n",
        "    iter_seidel_x = [x[0] for x in iter_seidel]\n",
        "    iter_seidel_y = [x[1] for x in iter_seidel]\n",
        "\n",
        "    # Plot Gauss-Jacobi iterations\n",
        "    plt.plot(iter_jacobi_x, iter_jacobi_y, 'o-', label='Jacobi')\n",
        "\n",
        "    # Plot Gauss-Seidel iterations\n",
        "    plt.plot(iter_seidel_x, iter_seidel_y, 's-', label='Seidel')\n",
        "\n",
        "    # Add lines for x and y axes\n",
        "    plt.axhline(0, color='black', linewidth=0.5)\n",
        "    plt.axvline(0, color='black', linewidth=0.5)\n",
        "\n",
        "    # Set axis limits\n",
        "    plt.xlim(inicio, fim)\n",
        "    plt.ylim(inicio, fim)\n",
        "\n",
        "    # Add labels and title\n",
        "    plt.xlabel('x1')\n",
        "    plt.ylabel('x2')\n",
        "    plt.title('Iterações dos Métodos Gauss-Jacobi e Gauss-Seidel')\n",
        "\n",
        "    # Add legend\n",
        "    plt.legend()\n",
        "\n",
        "    # Add grid\n",
        "    plt.grid()\n",
        "\n",
        "    # Show plot\n",
        "    plt.show()\n",
        "\n"
      ],
      "metadata": {
        "id": "M1N5bFbYbny1"
      },
      "execution_count": null,
      "outputs": []
    },
    {
      "cell_type": "code",
      "source": [
        "# Definindo o intervalo e o número de pontos para o gráfico\n",
        "inicio = min(np.min(iter_jacobi), np.min(iter_seidel)) - 1\n",
        "fim = max(np.max(iter_jacobi), np.max(iter_seidel)) + 1\n",
        "nro_pts = 100\n",
        "\n",
        "# Gerando o gráfico\n",
        "plot_iterations_gs_jacobi(iter_jacobi, iter_seidel, inicio, fim, nro_pts)"
      ],
      "metadata": {
        "colab": {
          "base_uri": "https://localhost:8080/",
          "height": 492
        },
        "id": "8K1pf7KTj4MP",
        "outputId": "b4a44069-ef86-4280-bd9c-36244c64b620"
      },
      "execution_count": null,
      "outputs": [
        {
          "output_type": "display_data",
          "data": {
            "text/plain": [
              "<Figure size 640x480 with 1 Axes>"
            ],
            "image/png": "[encoded data removed]"
          },
          "metadata": {}
        }
      ]
    },
    {
      "cell_type": "markdown",
      "metadata": {
        "id": "pttl4qN8y3G5"
      },
      "source": [
        "##  Sistemas de equações não lineares"
      ]
    },
    {
      "cell_type": "markdown",
      "metadata": {
        "id": "cnSgsaoZy-_c"
      },
      "source": [
        "### Método de Newton"
      ]
    },
    {
      "cell_type": "code",
      "execution_count": null,
      "metadata": {
        "id": "7-sRPMWIzDgB"
      },
      "outputs": [],
      "source": [
        "def newton(F, JF, x0, TOL, N):\n",
        "    # Preliminares\n",
        "    x = np.copy(x0).astype(np.float64)\n",
        "    k = 0\n",
        "\n",
        "    # Iterações\n",
        "    while k < N:\n",
        "        k += 1\n",
        "        # Iteração de Newton\n",
        "        delta = -np.linalg.solve(JF(x), F(x))\n",
        "        x = x + delta\n",
        "        # Critério de parada\n",
        "        if np.linalg.norm(delta, np.inf) < TOL:\n",
        "            return x\n",
        "\n",
        "    raise NameError('Número máximo de iterações excedido.')"
      ]
    },
    {
      "cell_type": "code",
      "execution_count": null,
      "metadata": {
        "colab": {
          "base_uri": "https://localhost:8080/"
        },
        "id": "KcklQgDXzRR6",
        "outputId": "878b3bc8-9f60-4cce-e7f9-78063f84e727"
      },
      "outputs": [
        {
          "output_type": "stream",
          "name": "stdout",
          "text": [
            "Solução aproximada: [0.90453403 0.85280287]\n"
          ]
        }
      ],
      "source": [
        "# Definindo F e JF usando lambdas\n",
        "F = lambda x: np.array([\n",
        "    x[0]**2/3 + x[1]**2 - 1,   # Equação 1\n",
        "    x[0]**2 + x[1]**2/4 - 1   # Equação 2\n",
        "])\n",
        "\n",
        "JF = lambda x: np.array([\n",
        "    [2*x[0]/3, 2*x[1]],       # Derivadas parciais de f1\n",
        "    [2*x[0], x[1]/2]          # Derivadas parciais de f2\n",
        "])\n",
        "\n",
        "# Ponto inicial\n",
        "x0 = np.array([0.5, 0.5])\n",
        "TOL = 1e-10\n",
        "N = 100\n",
        "\n",
        "try:\n",
        "    sol = newton(F, JF, x0, TOL, N)\n",
        "    print(\"Solução aproximada:\", sol)\n",
        "except NameError as e:\n",
        "    print(e)"
      ]
    },
    {
      "cell_type": "markdown",
      "metadata": {
        "id": "wt_Mkq_i1at7"
      },
      "source": [
        "# Lista de Exercícios"
      ]
    },
    {
      "cell_type": "markdown",
      "metadata": {
        "id": "p4suIz6U1uM3"
      },
      "source": [
        "##1. Considere os seguintes sistemas:"
      ]
    },
    {
      "cell_type": "markdown",
      "metadata": {
        "id": "QSsSWfWg8EFO"
      },
      "source": [
        "### a) Eliminação de Gauss sem Pivotamento Parcial"
      ]
    },
    {
      "cell_type": "code",
      "execution_count": null,
      "metadata": {
        "colab": {
          "base_uri": "https://localhost:8080/"
        },
        "id": "iGD6Mio52wfa",
        "outputId": "f0f54da8-ae5b-4912-8ada-204cad91f121"
      },
      "outputs": [
        {
          "output_type": "stream",
          "name": "stdout",
          "text": [
            "x solução:\n",
            "[1.00004364 0.99993455 1.00031818]\n"
          ]
        }
      ],
      "source": [
        "# 1-a\n",
        "A = np.array([[3, 2, 0],\n",
        "              [1, 4, 1],\n",
        "              [2, 5, 0]], dtype=float)\n",
        "\n",
        "B = np.array([5, 6, 7], dtype=float)\n",
        "\n",
        "n = len(B)\n",
        "\n",
        "x = gauss_final(A, B,n)\n",
        "\n",
        "print(\"x solução:\")\n",
        "print(x)"
      ]
    },
    {
      "cell_type": "code",
      "execution_count": null,
      "metadata": {
        "colab": {
          "base_uri": "https://localhost:8080/"
        },
        "id": "KUunER7C8Yb5",
        "outputId": "53c6b9a9-2d16-490e-f5a7-9ceea9de01ed"
      },
      "outputs": [
        {
          "output_type": "stream",
          "name": "stdout",
          "text": [
            "x solução:\n",
            "[-1.5  2.   1.5]\n"
          ]
        }
      ],
      "source": [
        "# 1-b\n",
        "A = np.array([[-2, -2, 0],\n",
        "              [1, 3, -1],\n",
        "              [0,-1, 2]], dtype=float)\n",
        "\n",
        "B = np.array([-1, 3, 1], dtype=float)\n",
        "\n",
        "n = len(B)\n",
        "\n",
        "# Configurando o número de casas decimais\n",
        "\n",
        "\n",
        "x = gauss_final(A, B,n)\n",
        "\n",
        "print(\"x solução:\")\n",
        "print(x)"
      ]
    },
    {
      "cell_type": "code",
      "execution_count": null,
      "metadata": {
        "colab": {
          "base_uri": "https://localhost:8080/"
        },
        "id": "zHB2zt0j8n4r",
        "outputId": "44d00384-df76-4b14-9ebb-1e1819620045"
      },
      "outputs": [
        {
          "output_type": "stream",
          "name": "stdout",
          "text": [
            "x solução:\n",
            "[1. 1. 1.]\n"
          ]
        }
      ],
      "source": [
        "# 1-c\n",
        "A = np.array([[1, 2, 1],\n",
        "              [2, 6, 0],\n",
        "              [1, 0, 4]], dtype=float)\n",
        "\n",
        "B = np.array([4, 8, 5], dtype=float)\n",
        "\n",
        "n = len(B)\n",
        "\n",
        "# Configurando o número de casas decimais\n",
        "\n",
        "\n",
        "x = gauss_final(A, B,n)\n",
        "\n",
        "print(\"x solução:\")\n",
        "print(x)"
      ]
    },
    {
      "cell_type": "markdown",
      "metadata": {
        "id": "-rW9cJXc-2OQ"
      },
      "source": [
        "### a) Eliminação de Gauss com Pivotamento Parcial"
      ]
    },
    {
      "cell_type": "code",
      "execution_count": null,
      "metadata": {
        "colab": {
          "base_uri": "https://localhost:8080/"
        },
        "id": "tbWqeInm-7G_",
        "outputId": "6401f94a-de7f-4eae-8075-4a0c01ae9f01"
      },
      "outputs": [
        {
          "output_type": "stream",
          "name": "stdout",
          "text": [
            "x solucao:\n",
            "[1. 1. 1.]\n"
          ]
        }
      ],
      "source": [
        "# 1-a-1\n",
        "A = np.array([[3, 2, 0],\n",
        "              [1, 4, 1],\n",
        "              [2, 5, 0]], dtype=float)\n",
        "\n",
        "B = np.array([5, 6, 7], dtype=float)\n",
        "\n",
        "n = len(B)\n",
        "\n",
        "# Configurando o número de casas decimais\n",
        "\n",
        "\n",
        "x_n_pivo = gauss_pivot_final(A, B,n)\n",
        "\n",
        "print(\"x solucao:\")\n",
        "print(x_n_pivo)"
      ]
    },
    {
      "cell_type": "code",
      "execution_count": null,
      "metadata": {
        "colab": {
          "base_uri": "https://localhost:8080/"
        },
        "id": "OIVLSCE4AT-F",
        "outputId": "2afdd113-5714-4da5-c839-2625e0a39d63"
      },
      "outputs": [
        {
          "output_type": "stream",
          "name": "stdout",
          "text": [
            "Matriz Triangular Superior A:\n",
            "[-1.5  2.   1.5]\n"
          ]
        }
      ],
      "source": [
        "# 1-b\n",
        "A = np.array([[-2, -2, 0],\n",
        "              [1, 3, -1],\n",
        "              [0,-1, 2]], dtype=float)\n",
        "\n",
        "B = np.array([-1, 3, 1], dtype=float)\n",
        "\n",
        "n = len(B)\n",
        "\n",
        "# Configurando o número de casas decimais\n",
        "\n",
        "\n",
        "x_n_pivo = gauss_pivot_final(A, B,n)\n",
        "\n",
        "print(\"Matriz Triangular Superior A:\")\n",
        "print(x_n_pivo)"
      ]
    },
    {
      "cell_type": "code",
      "execution_count": null,
      "metadata": {
        "colab": {
          "base_uri": "https://localhost:8080/"
        },
        "id": "oGixREHcAfdJ",
        "outputId": "7e766f02-0ede-4249-e7df-da143df90c32"
      },
      "outputs": [
        {
          "output_type": "stream",
          "name": "stdout",
          "text": [
            "x solucao:\n",
            "[1. 1. 1.]\n"
          ]
        }
      ],
      "source": [
        "# 1-c\n",
        "A = np.array([[1, 2, 1],\n",
        "              [2, 6, 0],\n",
        "              [1, 0, 4]], dtype=float)\n",
        "\n",
        "B = np.array([4, 8, 5], dtype=float)\n",
        "\n",
        "n = len(B)\n",
        "\n",
        "# Configurando o número de casas decimais\n",
        "\n",
        "\n",
        "x_n_pivo = gauss_pivot_final(A, B,n)\n",
        "\n",
        "print(\"x solucao:\")\n",
        "print(x_n_pivo)"
      ]
    },
    {
      "cell_type": "markdown",
      "metadata": {
        "id": "zTwOA4Z5DaNP"
      },
      "source": [
        "### b) Fatoração LU sem Pivotamento Parcial"
      ]
    },
    {
      "cell_type": "code",
      "execution_count": null,
      "metadata": {
        "colab": {
          "base_uri": "https://localhost:8080/"
        },
        "id": "4jNO43cNDfuW",
        "outputId": "98178ebf-efc4-4410-aed4-827ce316e839"
      },
      "outputs": [
        {
          "output_type": "stream",
          "name": "stdout",
          "text": [
            "x solucao:\n",
            "[1.00000988 0.99998518 1.00008273]\n"
          ]
        }
      ],
      "source": [
        "# 1-b-1\n",
        "A = np.array([[3, 2, 0],\n",
        "              [1, 4, 1],\n",
        "              [2, 5, 0]], dtype=float)\n",
        "\n",
        "B = np.array([5, 6, 7], dtype=float)\n",
        "\n",
        "x = LU_final(A,B)\n",
        "\n",
        "print(\"x solucao:\")\n",
        "print(x)"
      ]
    },
    {
      "cell_type": "code",
      "execution_count": null,
      "metadata": {
        "colab": {
          "base_uri": "https://localhost:8080/"
        },
        "id": "xebflDMTKvmi",
        "outputId": "46301ef7-cc16-4ecc-a80a-b7cb39b4de5c"
      },
      "outputs": [
        {
          "output_type": "stream",
          "name": "stdout",
          "text": [
            "x solucao:\n",
            "[-1.5  2.   1.5]\n"
          ]
        }
      ],
      "source": [
        "# 1-b-2\n",
        "A = np.array([[-2, -2, 0],\n",
        "              [1, 3, -1],\n",
        "              [0,-1, 2]], dtype=float)\n",
        "\n",
        "B = np.array([-1, 3, 1], dtype=float)\n",
        "\n",
        "x = LU_final(A,B)\n",
        "\n",
        "print(\"x solucao:\")\n",
        "print(x)"
      ]
    },
    {
      "cell_type": "code",
      "execution_count": null,
      "metadata": {
        "colab": {
          "base_uri": "https://localhost:8080/"
        },
        "id": "VZgxSpR2K3FW",
        "outputId": "18167ac4-b3d0-4a35-ade4-6957612ca49b"
      },
      "outputs": [
        {
          "output_type": "stream",
          "name": "stdout",
          "text": [
            "x solucao:\n",
            "[1. 1. 1.]\n"
          ]
        }
      ],
      "source": [
        "# 1-b-3\n",
        "A = np.array([[1, 2, 1],\n",
        "              [2, 6, 0],\n",
        "              [1, 0, 4]], dtype=float)\n",
        "\n",
        "B = np.array([4, 8, 5], dtype=float)\n",
        "\n",
        "x = LU_final(A,B)\n",
        "\n",
        "print(\"x solucao:\")\n",
        "print(x)"
      ]
    },
    {
      "cell_type": "markdown",
      "metadata": {
        "id": "5ah_6WFsLDT4"
      },
      "source": [
        "### b) Fatoração LU com Pivotamento Parcial"
      ]
    },
    {
      "cell_type": "code",
      "execution_count": null,
      "metadata": {
        "colab": {
          "base_uri": "https://localhost:8080/"
        },
        "id": "0hNr3wOvLP1I",
        "outputId": "5915dd78-0872-4474-8ca4-dca78d329651"
      },
      "outputs": [
        {
          "output_type": "stream",
          "name": "stdout",
          "text": [
            "Matriz Ly:\n",
            "[5. 7. 6.]\n",
            "Matriz y:\n",
            "[5.         3.66666667 1.        ]\n",
            "x solucao:\n",
            "[1. 1. 1.]\n"
          ]
        }
      ],
      "source": [
        "#1-b-1\n",
        "A = np.array([[3, 2, 0],\n",
        "              [1, 4, 1],\n",
        "              [2, 5, 0]], dtype=float)\n",
        "\n",
        "B = np.array([5, 6, 7], dtype=float)\n",
        "\n",
        "x_n_pivo = lu_decomposition_with_pivoting_final(A, B)\n",
        "\n",
        "print(\"x solucao:\")\n",
        "print(x_n_pivo)"
      ]
    },
    {
      "cell_type": "code",
      "execution_count": null,
      "metadata": {
        "colab": {
          "base_uri": "https://localhost:8080/"
        },
        "id": "JbivyFDJLmVr",
        "outputId": "7b41917e-febb-4185-9fdb-fa34f803efbb"
      },
      "outputs": [
        {
          "output_type": "stream",
          "name": "stdout",
          "text": [
            "Matriz Ly:\n",
            "[-1.  3.  1.]\n",
            "Matriz y:\n",
            "[-1.    2.5   2.25]\n",
            "x solucao:\n",
            "[-1.5  2.   1.5]\n"
          ]
        }
      ],
      "source": [
        "#1-b-2\n",
        "A = np.array([[-2, -2, 0],\n",
        "              [1, 3, -1],\n",
        "              [0,-1, 2]], dtype=float)\n",
        "\n",
        "B = np.array([-1, 3, 1], dtype=float)\n",
        "\n",
        "x_n_pivo = lu_decomposition_with_pivoting_final(A, B)\n",
        "\n",
        "print(\"x solucao:\")\n",
        "print(x_n_pivo)"
      ]
    },
    {
      "cell_type": "code",
      "execution_count": null,
      "metadata": {
        "colab": {
          "base_uri": "https://localhost:8080/"
        },
        "id": "pFtU3uyyLwG7",
        "outputId": "7ac12fb9-90da-4c4b-ec42-c1d66f4528ac"
      },
      "outputs": [
        {
          "output_type": "stream",
          "name": "stdout",
          "text": [
            "Matriz Ly:\n",
            "[8. 5. 4.]\n",
            "Matriz y:\n",
            "[ 8.          1.         -0.33333333]\n",
            "x solucao:\n",
            "[1. 1. 1.]\n"
          ]
        }
      ],
      "source": [
        "#1-b-3\n",
        "A = np.array([[1, 2, 1],\n",
        "              [2, 6, 0],\n",
        "              [1, 0, 4]], dtype=float)\n",
        "\n",
        "B = np.array([4, 8, 5], dtype=float)\n",
        "\n",
        "x_n_pivo = lu_decomposition_with_pivoting_final(A, B)\n",
        "\n",
        "print(\"x solucao:\")\n",
        "print(x_n_pivo)"
      ]
    },
    {
      "cell_type": "markdown",
      "metadata": {
        "id": "L3TqJQ6XMAMs"
      },
      "source": [
        "### c) Fatoração Cholesky sem Pivotamento Parcial."
      ]
    },
    {
      "cell_type": "code",
      "execution_count": null,
      "metadata": {
        "colab": {
          "base_uri": "https://localhost:8080/"
        },
        "id": "JHGeLlXZMEGk",
        "outputId": "34d95b1e-8eb0-4e7a-bbc9-86799b53b7f2"
      },
      "outputs": [
        {
          "output_type": "stream",
          "name": "stdout",
          "text": [
            "Erro: A matriz não é simétrica\n"
          ]
        }
      ],
      "source": [
        "# 1-c-1\n",
        "A = np.array([[3, 2, 0],\n",
        "              [1, 4, 1],\n",
        "              [2, 5, 0]], dtype=float)\n",
        "n = A.shape[0]\n",
        "B = np.array([5, 6, 7], dtype=float)\n",
        "\n",
        "cholesky_decomposition(n, A, B)\n"
      ]
    },
    {
      "cell_type": "code",
      "execution_count": null,
      "metadata": {
        "colab": {
          "base_uri": "https://localhost:8080/"
        },
        "id": "udgbiwgikj52",
        "outputId": "653ad54e-5c09-422e-a081-00f5997e98b7"
      },
      "outputs": [
        {
          "output_type": "stream",
          "name": "stdout",
          "text": [
            "Erro: A matriz não é simétrica\n"
          ]
        }
      ],
      "source": [
        "# 1-c-2\n",
        "A = np.array([[-2, -2, 0],\n",
        "              [1, 3, -1],\n",
        "              [0,-1, 2]], dtype=float)\n",
        "\n",
        "B = np.array([-1, 3, 1], dtype=float)\n",
        "n = A.shape[0]\n",
        "\n",
        "cholesky_decomposition(n, A, B)"
      ]
    },
    {
      "cell_type": "code",
      "execution_count": null,
      "metadata": {
        "colab": {
          "base_uri": "https://localhost:8080/"
        },
        "id": "rSuIlLGWld7w",
        "outputId": "539755bd-8f15-4d7a-d6f0-166e7cc33e98"
      },
      "outputs": [
        {
          "output_type": "stream",
          "name": "stdout",
          "text": [
            "Matriz L:\n",
            " [[ 1.          0.          0.        ]\n",
            " [ 2.          1.41421356  0.        ]\n",
            " [ 1.         -1.41421356  1.        ]]\n",
            "Solução x_cholesky: [1. 1. 1.]\n"
          ]
        }
      ],
      "source": [
        "# 1-c-3\n",
        "A = np.array([[1, 2, 1],\n",
        "              [2, 6, 0],\n",
        "              [1, 0, 4]], dtype=float)\n",
        "\n",
        "B = np.array([4, 8, 5], dtype=float)\n",
        "n = A.shape[0]\n",
        "\n",
        "cholesky_decomposition(n, A, B)"
      ]
    },
    {
      "cell_type": "markdown",
      "metadata": {
        "id": "gw8dnfNYl4Fw"
      },
      "source": [
        "### c) Fatoração Cholesky com Pivotamento Parcial."
      ]
    },
    {
      "cell_type": "code",
      "execution_count": null,
      "metadata": {
        "colab": {
          "base_uri": "https://localhost:8080/"
        },
        "id": "pxPIsWnwl77J",
        "outputId": "6004d724-f7a9-4589-e045-a53844a92fe2"
      },
      "outputs": [
        {
          "output_type": "stream",
          "name": "stdout",
          "text": [
            "Erro: A matriz não é simétrica\n",
            "Solução x_cholesky: None\n"
          ]
        }
      ],
      "source": [
        "# 1-c-1\n",
        "A = np.array([[3, 2, 0],\n",
        "              [1, 4, 1],\n",
        "              [2, 5, 0]], dtype=float)\n",
        "\n",
        "B = np.array([5, 6, 7], dtype=float)\n",
        "n = A.shape[0]\n",
        "x_cholesky = cholesky_pivoting(n, A, B)\n",
        "print(\"Solução x_cholesky:\", x_cholesky)"
      ]
    },
    {
      "cell_type": "code",
      "execution_count": null,
      "metadata": {
        "colab": {
          "base_uri": "https://localhost:8080/"
        },
        "id": "3bgoingunHXB",
        "outputId": "af9654ff-cc6d-402e-eccf-a64f10dacce3"
      },
      "outputs": [
        {
          "output_type": "stream",
          "name": "stdout",
          "text": [
            "Erro: A matriz não é simétrica\n",
            "Solução x_cholesky: None\n"
          ]
        }
      ],
      "source": [
        "# 1-c-2\n",
        "A = np.array([[-2, -2, 0],\n",
        "              [1, 3, -1],\n",
        "              [0,-1, 2]], dtype=float)\n",
        "\n",
        "B = np.array([-1, 3, 1], dtype=float)\n",
        "n = A.shape[0]\n",
        "x_cholesky = cholesky_pivoting(n, A, B)\n",
        "print(\"Solução x_cholesky:\", x_cholesky)"
      ]
    },
    {
      "cell_type": "code",
      "execution_count": null,
      "metadata": {
        "colab": {
          "base_uri": "https://localhost:8080/"
        },
        "id": "CisdutefnVJl",
        "outputId": "cd8b68eb-544d-4c9f-fbd5-e597869684f9"
      },
      "outputs": [
        {
          "output_type": "stream",
          "name": "stdout",
          "text": [
            "Matriz L:\n",
            " [[2.44948974 0.         0.        ]\n",
            " [0.81649658 0.57735027 0.        ]\n",
            " [0.         1.73205081 1.        ]]\n",
            "Matriz de Permutação P:\n",
            " [[0. 1. 0.]\n",
            " [1. 0. 0.]\n",
            " [0. 0. 1.]]\n",
            "Determinante: 1.9999999999999962\n",
            "Info: 0\n",
            "Solução x_cholesky: [1. 1. 1.]\n"
          ]
        }
      ],
      "source": [
        "# 1-c-3\n",
        "A = np.array([[1, 2, 1],\n",
        "              [2, 6, 0],\n",
        "              [1, 0, 4]], dtype=float)\n",
        "\n",
        "B = np.array([4, 8, 5], dtype=float)\n",
        "n = A.shape[0]\n",
        "x_cholesky = cholesky_pivoting(n, A, B)\n",
        "print(\"Solução x_cholesky:\", x_cholesky)"
      ]
    },
    {
      "cell_type": "markdown",
      "metadata": {
        "id": "D72nyIhanlnp"
      },
      "source": [
        "## 2. Considere os seguintes sistemas:"
      ]
    },
    {
      "cell_type": "markdown",
      "metadata": {
        "id": "YjMUcyjNnAHy"
      },
      "source": [
        "### a) A matriz A pode ser decomposta em L.U.? Justifique."
      ]
    },
    {
      "cell_type": "markdown",
      "metadata": {
        "id": "-OO7GrIKn6JG"
      },
      "source": [
        "A decomposição LULU (sem pivoteamento) existe para uma matriz AA se as submatrizes principais de AA são não-singulares (têm determinante diferente de zero)."
      ]
    },
    {
      "cell_type": "markdown",
      "metadata": {
        "id": "td08mBIQuCnI"
      },
      "source": [
        "![WhatsApp Image 2024-07-08 at 11.19.35.jpeg](data:image/jpeg;base64,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)"
      ]
    },
    {
      "cell_type": "markdown",
      "metadata": {
        "id": "6jPPfj5CtEqk"
      },
      "source": [
        "A matriz A pode ser decomposta em LU para todos os valores de α, exceto α=1 e α=2/5​."
      ]
    },
    {
      "cell_type": "markdown",
      "metadata": {
        "id": "3uIwtYXtnIOK"
      },
      "source": [
        "### b) O sistema pode ser resolvido por Fatoração Cholesky? Justifique."
      ]
    },
    {
      "cell_type": "markdown",
      "metadata": {
        "id": "4aEeHERmntoe"
      },
      "source": [
        "O sistema não pode ser resolvido por Fatoração Cholesky porque a matriz A não é simétrica."
      ]
    },
    {
      "cell_type": "markdown",
      "metadata": {
        "id": "ed_fyu4LjWkc"
      },
      "source": [
        "### c) Considere α = 1 e resolva o sistema pelo Método de Eliminação de Gauss sem pivotamento."
      ]
    },
    {
      "cell_type": "code",
      "execution_count": null,
      "metadata": {
        "colab": {
          "base_uri": "https://localhost:8080/"
        },
        "id": "1EMp0P8Clwn9",
        "outputId": "31cc3c4f-c840-499d-eaf5-5071f3ca1508"
      },
      "outputs": [
        {
          "output_type": "stream",
          "name": "stdout",
          "text": [
            "Erro: Elemento pivô é zero. A matriz pode ser singular ou precisar de troca de linhas.. Continuando para a próxima iteração.\n",
            "x solução:\n",
            "[ 1. -0. -1.]\n"
          ]
        },
        {
          "output_type": "execute_result",
          "data": {
            "text/plain": [
              "3.0000000000000004"
            ]
          },
          "metadata": {},
          "execution_count": 1460
        }
      ],
      "source": [
        "# 1-a\n",
        "A = np.array([[1, 1, 3],\n",
        "              [1, 1, 4],\n",
        "              [5, 2, 1]], dtype=float)\n",
        "\n",
        "B = np.array([-2, -3, 4], dtype=float)\n",
        "\n",
        "n = len(B)\n",
        "\n",
        "x = gauss_final(A, B,n)\n",
        "\n",
        "print(\"x solução:\")\n",
        "print(x)\n",
        "\n",
        "det_A = np.linalg.det(A)\n",
        "det_A"
      ]
    },
    {
      "cell_type": "markdown",
      "metadata": {
        "id": "Wp54JoTataid"
      },
      "source": [
        "Eliminação de Gauss com pivotamento."
      ]
    },
    {
      "cell_type": "code",
      "execution_count": null,
      "metadata": {
        "colab": {
          "base_uri": "https://localhost:8080/"
        },
        "id": "CjnyShobo1or",
        "outputId": "8c85ff4c-b876-4972-c998-e55c3f58b657"
      },
      "outputs": [
        {
          "output_type": "stream",
          "name": "stdout",
          "text": [
            "x solucao:\n",
            "[ 1.  0. -1.]\n"
          ]
        }
      ],
      "source": [
        "# 1-a-1\n",
        "A = np.array([[1, 1, 3],\n",
        "              [1, 1, 4],\n",
        "              [5, 2, 1]], dtype=float)\n",
        "\n",
        "B = np.array([-2, -3, 4], dtype=float)\n",
        "\n",
        "n = len(B)\n",
        "\n",
        "# Configurando o número de casas decimais\n",
        "\n",
        "\n",
        "x_n_pivo = gauss_pivot_final(A, B,n)\n",
        "\n",
        "print(\"x solucao:\")\n",
        "print(x_n_pivo)"
      ]
    },
    {
      "cell_type": "markdown",
      "metadata": {
        "id": "2LjyLGUGuUnL"
      },
      "source": [
        "## 3. Considere o seguinte sistema de equações para determinar as concentrações c1,c2 e c3 (g/m3) numa série de 3 reatores como função da quantidade de massa à entrada de cada reator (termo independente do sistema em g):"
      ]
    },
    {
      "cell_type": "markdown",
      "metadata": {
        "id": "zMRmEbnjuW-O"
      },
      "source": [
        "a) Analise as condições de convergência"
      ]
    },
    {
      "cell_type": "code",
      "execution_count": null,
      "metadata": {
        "colab": {
          "base_uri": "https://localhost:8080/"
        },
        "id": "Sst_7TUewhrv",
        "outputId": "220836ab-df31-41c5-b4e8-c52afb005783"
      },
      "outputs": [
        {
          "output_type": "stream",
          "name": "stdout",
          "text": [
            "A matriz é diagonalmente dominante? Sim\n",
            "Raio espectral da matriz de iteração: 0.35227698999963036\n"
          ]
        }
      ],
      "source": [
        "A = np.array([[17, -2, -3],\n",
        "              [-5, 21, -2],\n",
        "              [-5, -5, 22]], dtype=float)\n",
        "\n",
        "b = np.array([500, 200, 30], dtype=float)\n",
        "\n",
        "# Ponto inicial especificado\n",
        "x0 = np.array([34, 19, 13], dtype=float)\n",
        "# Análise de convergência\n",
        "is_dd, rho = analyze_convergence(A)\n",
        "print(\"A matriz é diagonalmente dominante? {}\".format('Sim' if is_dd else 'Não'))\n",
        "print(\"Raio espectral da matriz de iteração: {}\".format(rho))\n"
      ]
    },
    {
      "cell_type": "markdown",
      "metadata": {
        "id": "LX6smiI7xDJC"
      },
      "source": [
        "**Diagonal dominante**: Uma matriz AA é diagonalmente dominante se, para cada linha ii, a magnitude do elemento da diagonal ∣a(ii)∣ é maior ou igual à soma das magnitudes de todos os outros elementos dessa linha ∑j≠i∣a(ij)∣\n",
        "\n",
        "**Espectralidade**: O método de Jacobi convergirá se o raio espectral da matriz de iteração T for menor que 1"
      ]
    },
    {
      "cell_type": "markdown",
      "metadata": {
        "id": "VLHRl9ch0wr2"
      },
      "source": [
        "b) Aplique os métodos ao sistema"
      ]
    },
    {
      "cell_type": "code",
      "execution_count": null,
      "metadata": {
        "colab": {
          "base_uri": "https://localhost:8080/"
        },
        "id": "NAJSvCxKxk8U",
        "outputId": "4920929c-7c07-4950-c01d-e864fc4ea218"
      },
      "outputs": [
        {
          "output_type": "stream",
          "name": "stdout",
          "text": [
            "Iteração 1: x = [33.94117647 18.85714286 13.40909091], NormaRel = 0.01205293839609262\n",
            "Iteração 2: x = [33.99656226 18.88209829 13.36325439], NormaRel = 0.0016291585676886813\n",
            "Erro: too many values to unpack (expected 3)\n"
          ]
        }
      ],
      "source": [
        "# Resolução usando Jacobi\n",
        "try:\n",
        "    x, Iter, Info = jacobi(A, b, x0,0.0025,2)\n",
        "    print(\"Solução x:\", x)\n",
        "    print(\"Número de iterações:\", Iter)\n",
        "    print(\"Informação de convergência:\", \"Convergiu\" if Info == 0 else \"Não convergiu\")\n",
        "except ValueError as e:\n",
        "    print(\"Erro:\", e)"
      ]
    },
    {
      "cell_type": "code",
      "execution_count": null,
      "metadata": {
        "colab": {
          "base_uri": "https://localhost:8080/"
        },
        "id": "V2cj-Vbz0LdP",
        "outputId": "1ece73b5-2ba2-49d5-eca8-33526203f610"
      },
      "outputs": [
        {
          "output_type": "stream",
          "name": "stdout",
          "text": [
            "Iteração 1: x = [33.94117647 18.84313725 13.3600713 ], NormaRel = 0.010608686518565131\n",
            "Iteração 2: x = [33.98626402 18.88816489 13.38055203], NormaRel = 0.0013266404835143364\n",
            "Erro em Gauss-Seidel: too many values to unpack (expected 3)\n"
          ]
        }
      ],
      "source": [
        "# Aplicando Gauss-Seidel\n",
        "try:\n",
        "    x_seidel, Iter_seidel, Info_seidel = seidel(A, b, x0, Toler=0.0025, IterMax=2)\n",
        "    print(\"\\nSolução Gauss-Seidel x:\", x_seidel)\n",
        "    print(\"Número de iterações:\", Iter_seidel)\n",
        "    print(\"Informação de convergência:\", \"Convergiu\" if Info_seidel == 0 else \"Não convergiu\")\n",
        "except ValueError as e:\n",
        "    print(\"Erro em Gauss-Seidel:\", e)"
      ]
    },
    {
      "cell_type": "markdown",
      "metadata": {
        "id": "UNjSYMDL1G8J"
      },
      "source": [
        "## 4. Considere o sistema:"
      ]
    },
    {
      "cell_type": "markdown",
      "source": [
        "### a) Aplique analítica e graficamente os métodos Gauss-Jacobi e Gauss-Seidel."
      ],
      "metadata": {
        "id": "VJ1MTFCKaXsS"
      }
    },
    {
      "cell_type": "code",
      "execution_count": null,
      "metadata": {
        "colab": {
          "base_uri": "https://localhost:8080/"
        },
        "id": "RrRMU8JENwLY",
        "outputId": "1bb74887-370d-412f-b480-a141df7f2975"
      },
      "outputs": [
        {
          "output_type": "stream",
          "name": "stdout",
          "text": [
            "A matriz é diagonalmente dominante? Não\n",
            "Raio espectral da matriz de iteração: 2.7386127875258306\n"
          ]
        }
      ],
      "source": [
        "A = np.array([[2, 5],\n",
        "              [3, 1]], dtype=float)\n",
        "\n",
        "b = np.array([-3, 2], dtype=float)\n",
        "\n",
        "# Ponto inicial especificado\n",
        "x0 = np.copy(b)\n",
        "# Análise de convergência\n",
        "is_dd, rho = analyze_convergence(A)\n",
        "print(\"A matriz é diagonalmente dominante? {}\".format('Sim' if is_dd else 'Não'))\n",
        "print(\"Raio espectral da matriz de iteração: {}\".format(rho))"
      ]
    },
    {
      "cell_type": "code",
      "source": [
        "# Resolução usando Gauss-Jacobi\n",
        "try:\n",
        "    x, Iter, Info, iter_jacobi = jacobi(A, b, x0,0.0025,50)\n",
        "    print(\"Solução x:\", x)\n",
        "    print(\"Número de iterações:\", Iter)\n",
        "    print(\"Informação de convergência:\", \"Convergiu\" if Info == 0 else \"Não convergiu\")\n",
        "except ValueError as e:\n",
        "    print(\"Erro:\", e)"
      ],
      "metadata": {
        "colab": {
          "base_uri": "https://localhost:8080/"
        },
        "id": "YdX63eVvtFSv",
        "outputId": "b76ffe7a-e569-488a-bbbb-0665045e0b3d"
      },
      "execution_count": null,
      "outputs": [
        {
          "output_type": "stream",
          "name": "stdout",
          "text": [
            "Iteração 1: x = [-6.5 11. ], NormaRel = 0.8181818181818182\n",
            "Iteração 2: x = [-29.   21.5], NormaRel = 0.7758620689655172\n",
            "Iteração 3: x = [-55.25  89.  ], NormaRel = 0.7584269662921348\n",
            "Iteração 4: x = [-224.    167.75], NormaRel = 0.7533482142857143\n",
            "Iteração 5: x = [-420.875  674.   ], NormaRel = 0.7511127596439169\n",
            "Iteração 6: x = [-1686.5    1264.625], NormaRel = 0.7504447079750963\n",
            "Iteração 7: x = [-3163.0625  5061.5   ], NormaRel = 0.7501481774177615\n",
            "Iteração 8: x = [-12655.25     9491.1875], NormaRel = 0.7500592639418423\n",
            "Iteração 9: x = [-23729.46875  37967.75   ], NormaRel = 0.7500197536066794\n",
            "Iteração 10: x = [-94920.875    71190.40625], NormaRel = 0.7500079013178081\n",
            "Iteração 11: x = [-177977.515625  284764.625   ], NormaRel = 0.7500026337541048\n",
            "Iteração 12: x = [-711913.0625    533934.546875], NormaRel = 0.7500010534994223\n",
            "Iteração 13: x = [-1334837.8671875  2135741.1875   ], NormaRel = 0.7500003511661453\n",
            "Iteração 14: x = [-5339354.46875    4004515.6015625], NormaRel = 0.7500001404664186\n",
            "Iteração 15: x = [-10011290.50390625  16018065.40625   ], NormaRel = 0.7500000468221337\n",
            "Iteração 16: x = [-40045165.015625    30033873.51171875], NormaRel = 0.7500000187288528\n",
            "Iteração 17: x = [-7.50846853e+07  1.20135497e+08], NormaRel = 0.7500000062429508\n",
            "Iteração 18: x = [-3.00338744e+08  2.25254058e+08], NormaRel = 0.7500000024971804\n",
            "Iteração 19: x = [-5.63135146e+08  9.01016234e+08], NormaRel = 0.7500000008323935\n",
            "Iteração 20: x = [-2.25254059e+09  1.68940544e+09], NormaRel = 0.7500000003329573\n",
            "Iteração 21: x = [-4.22351360e+09  6.75762176e+09], NormaRel = 0.7500000001109858\n",
            "Iteração 22: x = [-1.68940544e+10  1.26705408e+10], NormaRel = 0.7500000000443943\n",
            "Iteração 23: x = [-3.16763520e+10  5.06821632e+10], NormaRel = 0.750000000014798\n",
            "Iteração 24: x = [-1.26705408e+11  9.50290561e+10], NormaRel = 0.7500000000059193\n",
            "Iteração 25: x = [-2.37572640e+11  3.80116224e+11], NormaRel = 0.7500000000019731\n",
            "Iteração 26: x = [-9.50290561e+11  7.12717921e+11], NormaRel = 0.7500000000007893\n",
            "Iteração 27: x = [-1.78179480e+12  2.85087168e+12], NormaRel = 0.7500000000002631\n",
            "Iteração 28: x = [-7.12717921e+12  5.34538440e+12], NormaRel = 0.7500000000001052\n",
            "Iteração 29: x = [-1.33634610e+13  2.13815376e+13], NormaRel = 0.7500000000000351\n",
            "Iteração 30: x = [-5.3453844e+13  4.0090383e+13], NormaRel = 0.750000000000014\n",
            "Iteração 31: x = [-1.00225958e+14  1.60361532e+14], NormaRel = 0.7500000000000047\n",
            "Iteração 32: x = [-4.00903830e+14  3.00677873e+14], NormaRel = 0.7500000000000018\n",
            "Iteração 33: x = [-7.51694682e+14  1.20271149e+15], NormaRel = 0.7500000000000007\n",
            "Iteração 34: x = [-3.00677873e+15  2.25508405e+15], NormaRel = 0.7500000000000002\n",
            "Iteração 35: x = [-5.63771011e+15  9.02033618e+15], NormaRel = 0.75\n",
            "Iteração 36: x = [-2.25508405e+16  1.69131303e+16], NormaRel = 0.75\n",
            "Iteração 37: x = [-4.22828259e+16  6.76525214e+16], NormaRel = 0.7499999999999999\n",
            "Iteração 38: x = [-1.69131303e+17  1.26848478e+17], NormaRel = 0.7499999999999999\n",
            "Iteração 39: x = [-3.17121194e+17  5.07393910e+17], NormaRel = 0.7499999999999999\n",
            "Iteração 40: x = [-1.26848478e+18  9.51363582e+17], NormaRel = 0.75\n",
            "Iteração 41: x = [-2.37840895e+18  3.80545433e+18], NormaRel = 0.7499999999999999\n",
            "Iteração 42: x = [-9.51363582e+18  7.13522686e+18], NormaRel = 0.7499999999999999\n",
            "Iteração 43: x = [-1.78380672e+19  2.85409075e+19], NormaRel = 0.7499999999999999\n",
            "Iteração 44: x = [-7.13522686e+19  5.35142015e+19], NormaRel = 0.7499999999999999\n",
            "Iteração 45: x = [-1.33785504e+20  2.14056806e+20], NormaRel = 0.7499999999999999\n",
            "Iteração 46: x = [-5.35142015e+20  4.01356511e+20], NormaRel = 0.7499999999999999\n",
            "Iteração 47: x = [-1.00339128e+21  1.60542604e+21], NormaRel = 0.7499999999999999\n",
            "Iteração 48: x = [-4.01356511e+21  3.01017383e+21], NormaRel = 0.7499999999999999\n",
            "Iteração 49: x = [-7.52543458e+21  1.20406953e+22], NormaRel = 0.7499999999999999\n",
            "Iteração 50: x = [-3.01017383e+22  2.25763037e+22], NormaRel = 0.7499999999999999\n",
            "Solução x: [-3.01017383e+22  2.25763037e+22]\n",
            "Número de iterações: 50\n",
            "Informação de convergência: Não convergiu\n"
          ]
        }
      ]
    },
    {
      "cell_type": "code",
      "source": [
        "# Aplicando Gauss-Seidel\n",
        "try:\n",
        "    x_seidel, Iter_seidel, Info_seidel,iter_seidel = seidel(A, b, x0, 0.0025, 50)\n",
        "    print(\"\\nSolução Gauss-Seidel x:\", x_seidel)\n",
        "    print(\"Número de iterações:\", Iter_seidel)\n",
        "    print(\"Informação de convergência:\", \"Convergiu\" if Info_seidel == 0 else \"Não convergiu\")\n",
        "except ValueError as e:\n",
        "    print(\"Erro em Gauss-Seidel:\", e)"
      ],
      "metadata": {
        "colab": {
          "base_uri": "https://localhost:8080/"
        },
        "id": "bFLe5dKotT2I",
        "outputId": "744446c8-cf41-4990-b7b4-013a0ec31ebe"
      },
      "execution_count": null,
      "outputs": [
        {
          "output_type": "stream",
          "name": "stdout",
          "text": [
            "Iteração 1: x = [-6.5 21.5], NormaRel = 0.9069767441860465\n",
            "Iteração 2: x = [-55.25 167.75], NormaRel = 0.8718330849478391\n",
            "Iteração 3: x = [-420.875 1264.625], NormaRel = 0.8673519818127904\n",
            "Iteração 4: x = [-3163.0625  9491.1875], NormaRel = 0.8667579794414556\n",
            "Iteração 5: x = [-23729.46875  71190.40625], NormaRel = 0.8666788405916703\n",
            "Iteração 6: x = [-177977.515625  533934.546875], NormaRel = 0.8666682898369068\n",
            "Iteração 7: x = [-1334837.8671875  4004515.6015625], NormaRel = 0.8666668830890141\n",
            "Iteração 8: x = [-10011290.50390625  30033873.51171875], NormaRel = 0.8666666955229734\n",
            "Iteração 9: x = [-7.50846853e+07  2.25254058e+08], NormaRel = 0.8666666705141741\n",
            "Iteração 10: x = [-5.63135146e+08  1.68940544e+09], NormaRel = 0.8666666671796677\n",
            "Iteração 11: x = [-4.22351360e+09  1.26705408e+10], NormaRel = 0.8666666667350668\n",
            "Iteração 12: x = [-3.16763520e+10  9.50290561e+10], NormaRel = 0.8666666666757867\n",
            "Iteração 13: x = [-2.37572640e+11  7.12717921e+11], NormaRel = 0.8666666666678827\n",
            "Iteração 14: x = [-1.7817948e+12  5.3453844e+12], NormaRel = 0.8666666666668287\n",
            "Iteração 15: x = [-1.3363461e+13  4.0090383e+13], NormaRel = 0.8666666666666882\n",
            "Iteração 16: x = [-1.00225958e+14  3.00677873e+14], NormaRel = 0.8666666666666696\n",
            "Iteração 17: x = [-7.51694682e+14  2.25508405e+15], NormaRel = 0.866666666666667\n",
            "Iteração 18: x = [-5.63771011e+15  1.69131303e+16], NormaRel = 0.8666666666666667\n",
            "Iteração 19: x = [-4.22828259e+16  1.26848478e+17], NormaRel = 0.8666666666666667\n",
            "Iteração 20: x = [-3.17121194e+17  9.51363582e+17], NormaRel = 0.8666666666666667\n",
            "Iteração 21: x = [-2.37840895e+18  7.13522686e+18], NormaRel = 0.8666666666666666\n",
            "Iteração 22: x = [-1.78380672e+19  5.35142015e+19], NormaRel = 0.8666666666666667\n",
            "Iteração 23: x = [-1.33785504e+20  4.01356511e+20], NormaRel = 0.8666666666666667\n",
            "Iteração 24: x = [-1.00339128e+21  3.01017383e+21], NormaRel = 0.8666666666666666\n",
            "Iteração 25: x = [-7.52543458e+21  2.25763037e+22], NormaRel = 0.8666666666666667\n",
            "Iteração 26: x = [-5.64407594e+22  1.69322278e+23], NormaRel = 0.8666666666666667\n",
            "Iteração 27: x = [-4.23305695e+23  1.26991709e+24], NormaRel = 0.8666666666666666\n",
            "Iteração 28: x = [-3.17479271e+24  9.52437814e+24], NormaRel = 0.8666666666666667\n",
            "Iteração 29: x = [-2.38109454e+25  7.14328361e+25], NormaRel = 0.8666666666666667\n",
            "Iteração 30: x = [-1.78582090e+26  5.35746271e+26], NormaRel = 0.8666666666666666\n",
            "Iteração 31: x = [-1.33936568e+27  4.01809703e+27], NormaRel = 0.8666666666666667\n",
            "Iteração 32: x = [-1.00452426e+28  3.01357277e+28], NormaRel = 0.8666666666666667\n",
            "Iteração 33: x = [-7.53393193e+28  2.26017958e+29], NormaRel = 0.8666666666666667\n",
            "Iteração 34: x = [-5.65044895e+29  1.69513468e+30], NormaRel = 0.8666666666666666\n",
            "Iteração 35: x = [-4.23783671e+30  1.27135101e+31], NormaRel = 0.8666666666666666\n",
            "Iteração 36: x = [-3.17837753e+31  9.53513260e+31], NormaRel = 0.8666666666666667\n",
            "Iteração 37: x = [-2.38378315e+32  7.15134945e+32], NormaRel = 0.8666666666666667\n",
            "Iteração 38: x = [-1.78783736e+33  5.36351209e+33], NormaRel = 0.8666666666666667\n",
            "Iteração 39: x = [-1.34087802e+34  4.02263406e+34], NormaRel = 0.8666666666666667\n",
            "Iteração 40: x = [-1.00565852e+35  3.01697555e+35], NormaRel = 0.8666666666666667\n",
            "Iteração 41: x = [-7.54243887e+35  2.26273166e+36], NormaRel = 0.8666666666666666\n",
            "Iteração 42: x = [-5.65682915e+36  1.69704875e+37], NormaRel = 0.8666666666666667\n",
            "Iteração 43: x = [-4.24262187e+37  1.27278656e+38], NormaRel = 0.8666666666666667\n",
            "Iteração 44: x = [-3.1819664e+38  9.5458992e+38], NormaRel = 0.8666666666666667\n",
            "Iteração 45: x = [-2.3864748e+39  7.1594244e+39], NormaRel = 0.8666666666666666\n",
            "Iteração 46: x = [-1.7898561e+40  5.3695683e+40], NormaRel = 0.8666666666666667\n",
            "Iteração 47: x = [-1.34239207e+41  4.02717622e+41], NormaRel = 0.8666666666666666\n",
            "Iteração 48: x = [-1.00679406e+42  3.02038217e+42], NormaRel = 0.8666666666666667\n",
            "Iteração 49: x = [-7.55095542e+42  2.26528663e+43], NormaRel = 0.8666666666666667\n",
            "Iteração 50: x = [-5.66321656e+43  1.69896497e+44], NormaRel = 0.8666666666666667\n",
            "\n",
            "Solução Gauss-Seidel x: [-5.66321656e+43  1.69896497e+44]\n",
            "Número de iterações: 50\n",
            "Informação de convergência: Não convergiu\n"
          ]
        }
      ]
    },
    {
      "cell_type": "code",
      "source": [
        "# Definindo o intervalo e o número de pontos para o gráfico\n",
        "inicio = min(np.min(iter_jacobi), np.min(iter_seidel)) -0.5\n",
        "fim = max(np.max(iter_jacobi), np.max(iter_seidel)) +0.5\n",
        "nro_pts = 10\n",
        "\n",
        "# Gerando o gráfico\n",
        "plot_iterations_gs_jacobi(iter_jacobi, iter_seidel, inicio, fim, nro_pts)"
      ],
      "metadata": {
        "colab": {
          "base_uri": "https://localhost:8080/",
          "height": 54
        },
        "id": "l9oE-4Lqt026",
        "outputId": "d7494cad-643b-4d12-f9b3-70b36ca68934"
      },
      "execution_count": null,
      "outputs": [
        {
          "output_type": "display_data",
          "data": {
            "text/plain": [
              "<Figure size 640x480 with 1 Axes>"
            ],
            "image/png": "[encoded data removed]"
          },
          "metadata": {}
        }
      ]
    },
    {
      "cell_type": "markdown",
      "source": [
        "Verifica-se que os critérios de convergência não são atendidos. E portanto, o gráfico  de convergência dos métodos iterativos mostra que as soluções calculadas não convergem para um valor estável, o que pode ser evidenciado pela oscilação dos valores ao longo das iterações, sem alcançar uma solução precisa e estável"
      ],
      "metadata": {
        "id": "RxZO2nTXzXp1"
      }
    },
    {
      "cell_type": "markdown",
      "source": [
        "### b) Permute as equações e aplique analítica e graficamente os métodos Gauss-Jacobi e Gauss-Seidel."
      ],
      "metadata": {
        "id": "UpJKDxHNsfvf"
      }
    },
    {
      "cell_type": "code",
      "source": [
        "A = np.array([[3, 1],\n",
        "              [2, 5]], dtype=float)\n",
        "\n",
        "b = np.array([2,-3], dtype=float)\n",
        "\n",
        "# Ponto inicial especificado\n",
        "x0 = np.copy(b)\n",
        "# Análise de convergência\n",
        "is_dd, rho = analyze_convergence(A)\n",
        "print(\"A matriz é diagonalmente dominante? {}\".format('Sim' if is_dd else 'Não'))\n",
        "print(\"Raio espectral da matriz de iteração: {}\".format(rho))"
      ],
      "metadata": {
        "colab": {
          "base_uri": "https://localhost:8080/"
        },
        "id": "HoZrNzqzarTA",
        "outputId": "bb4853f4-5018-4943-ad22-8c1e1491c201"
      },
      "execution_count": null,
      "outputs": [
        {
          "output_type": "stream",
          "name": "stdout",
          "text": [
            "A matriz é diagonalmente dominante? Sim\n",
            "Raio espectral da matriz de iteração: 0.36514837167011077\n"
          ]
        }
      ]
    },
    {
      "cell_type": "code",
      "source": [
        "# Resolução usando Jacobi\n",
        "try:\n",
        "    x, Iter, Info, iter_jacobi = jacobi(A, b, x0,0.0025,100)\n",
        "    print(\"Solução x:\", x)\n",
        "    print(\"Número de iterações:\", Iter)\n",
        "    print(\"Informação de convergência:\", \"Convergiu\" if Info == 0 else \"Não convergiu\")\n",
        "except ValueError as e:\n",
        "    print(\"Erro:\", e)"
      ],
      "metadata": {
        "colab": {
          "base_uri": "https://localhost:8080/"
        },
        "id": "rLm5gkiAnV5I",
        "outputId": "50242df1-a08e-411d-b0ab-78085cf85330"
      },
      "execution_count": null,
      "outputs": [
        {
          "output_type": "stream",
          "name": "stdout",
          "text": [
            "Iteração 1: x = [ 1.66666667 -1.4       ], NormaRel = 0.96\n",
            "Iteração 2: x = [ 1.13333333 -1.26666667], NormaRel = 0.4210526315789474\n",
            "Iteração 3: x = [ 1.08888889 -1.05333333], NormaRel = 0.19591836734693904\n",
            "Iteração 4: x = [ 1.01777778 -1.03555556], NormaRel = 0.06866952789699574\n",
            "Iteração 5: x = [ 1.01185185 -1.00711111], NormaRel = 0.028111273792093536\n",
            "Iteração 6: x = [ 1.00237037 -1.00474074], NormaRel = 0.009436744323208436\n",
            "Iteração 7: x = [ 1.00158025 -1.00094815], NormaRel = 0.0037866088156986266\n",
            "Iteração 8: x = [ 1.00031605 -1.0006321 ], NormaRel = 0.0012633989379551122\n",
            "Solução x: [ 1.00031605 -1.0006321 ]\n",
            "Número de iterações: 8\n",
            "Informação de convergência: Convergiu\n"
          ]
        }
      ]
    },
    {
      "cell_type": "code",
      "source": [
        "# Aplicando Gauss-Seidel\n",
        "try:\n",
        "    x_seidel, Iter_seidel, Info_seidel, iter_seidel = seidel(A, b, x0, Toler=0.0025, IterMax=100)\n",
        "    print(\"\\nSolução Gauss-Seidel x:\", x_seidel)\n",
        "    print(\"Número de iterações:\", Iter_seidel)\n",
        "    print(\"Informação de convergência:\", \"Convergiu\" if Info_seidel == 0 else \"Não convergiu\")\n",
        "except ValueError as e:\n",
        "    print(\"Erro em Gauss-Seidel:\", e)"
      ],
      "metadata": {
        "colab": {
          "base_uri": "https://localhost:8080/"
        },
        "id": "7dJu4sZFnU-C",
        "outputId": "e7ad5283-23eb-4949-9196-b70ef35bb6bd"
      },
      "execution_count": null,
      "outputs": [
        {
          "output_type": "stream",
          "name": "stdout",
          "text": [
            "Iteração 1: x = [ 1.66666667 -1.26666667], NormaRel = 1.0399999999999998\n",
            "Iteração 2: x = [ 1.08888889 -1.03555556], NormaRel = 0.5306122448979593\n",
            "Iteração 3: x = [ 1.01185185 -1.00474074], NormaRel = 0.0761346998535871\n",
            "Iteração 4: x = [ 1.00158025 -1.0006321 ], NormaRel = 0.010255398875850521\n",
            "Iteração 5: x = [ 1.0002107  -1.00008428], NormaRel = 0.0013692588228324816\n",
            "\n",
            "Solução Gauss-Seidel x: [ 1.0002107  -1.00008428]\n",
            "Número de iterações: 5\n",
            "Informação de convergência: Convergiu\n"
          ]
        }
      ]
    },
    {
      "cell_type": "markdown",
      "source": [
        "Eixos do Gráfico:\n",
        "\n",
        "*   **O eixo x (horizontal)** representa os valores da variável x1​.\n",
        "*    **O eixo y (vertical)** representa os valores da variável x2.\n",
        "\n",
        "\n"
      ],
      "metadata": {
        "id": "bopsnuYZrocN"
      }
    },
    {
      "cell_type": "code",
      "source": [
        "# Definindo o intervalo e o número de pontos para o gráfico\n",
        "inicio = min(np.min(iter_jacobi), np.min(iter_seidel)) -1\n",
        "fim = max(np.max(iter_jacobi), np.max(iter_seidel)) +1\n",
        "nro_pts = 100\n",
        "\n",
        "# Gerando o gráfico\n",
        "plot_iterations_gs_jacobi(iter_jacobi, iter_seidel, inicio, fim, nro_pts)"
      ],
      "metadata": {
        "colab": {
          "base_uri": "https://localhost:8080/",
          "height": 492
        },
        "id": "GLgoQwGqnO-D",
        "outputId": "45950a74-852e-4721-a0b5-2067a1c7aa15"
      },
      "execution_count": null,
      "outputs": [
        {
          "output_type": "display_data",
          "data": {
            "text/plain": [
              "<Figure size 640x480 with 1 Axes>"
            ],
            "image/png": "[encoded data removed]"
          },
          "metadata": {}
        }
      ]
    },
    {
      "cell_type": "markdown",
      "source": [
        "\n",
        "\n",
        "*   Cada ponto no gráfico representa uma aproximação da solução em uma iteração específica.\n",
        "*   A linha conectando os pontos mostra a sequência das aproximações, ilustrando como a solução evolui ao longo das iterações.\n",
        "\n",
        "\n",
        "\n"
      ],
      "metadata": {
        "id": "NK7YAp4ZrcNO"
      }
    },
    {
      "cell_type": "markdown",
      "source": [
        "A trajetória mostra como cada método converge para a solução. Se os pontos de cada método se aproximam de uma coordenada fixa à medida que as iterações aumentam, isso indica que o método está convergindo para a solução correta. No caso [1,-1]"
      ],
      "metadata": {
        "id": "HJ878DYXrUMQ"
      }
    },
    {
      "cell_type": "markdown",
      "source": [
        "## 5. Resolva o seguinte sistema de equações não linear usando o método iterativode Newton e considere a aproximação inicial com o valor (0 ,0 ,0)."
      ],
      "metadata": {
        "id": "yEYkikO_6Yfi"
      }
    },
    {
      "cell_type": "code",
      "source": [
        "# Definindo F e JF usando lambdas\n",
        "F = lambda x: np.array([\n",
        "    3*np.sin(x[0]) - 4*x[1] - 12*x[2] - 1,    # Equação 1\n",
        "    4*x[0]**2 - 8*x[1] - 10*x[2] + 5,        # Equação 2\n",
        "    2*np.exp(x[0]) + 2*x[1] + 3*x[2] - 8      # Equação 3\n",
        "])\n",
        "\n",
        "JF = lambda x: np.array([\n",
        "    [3*np.cos(x[0]), -4, -12],                # Derivadas parciais de f1\n",
        "    [8*x[0], -8, -10],                        # Derivadas parciais de f2\n",
        "    [2*np.exp(x[0]), 2, 3]                    # Derivadas parciais de f3\n",
        "])\n",
        "\n",
        "# Ponto inicial\n",
        "x0 = np.array([0.0, 0.0, 0.0])  # Aproximação inicial (0, 0, 0)\n",
        "\n",
        "# Testando as dimensões de JF(x0)\n",
        "print(\"Dimensões de JF(x0):\", JF(x0).shape)\n",
        "\n",
        "TOL = 1e-10\n",
        "N = 100\n",
        "\n",
        "# Executando o método de Newton\n",
        "try:\n",
        "    sol = newton(F, JF, x0, TOL, N)\n",
        "    print(\"Solução aproximada:\", sol)\n",
        "except ValueError as e:\n",
        "    print(e)"
      ],
      "metadata": {
        "colab": {
          "base_uri": "https://localhost:8080/"
        },
        "id": "2VEdJlI065cu",
        "outputId": "5b7812a4-94e4-4ef7-ded1-53d572bd8875"
      },
      "execution_count": null,
      "outputs": [
        {
          "output_type": "stream",
          "name": "stdout",
          "text": [
            "Dimensões de JF(x0): (3, 3)\n",
            "Solução aproximada: [ 1.06999055  1.76139911 -0.45116738]\n"
          ]
        }
      ]
    }
  ],
  "metadata": {
    "colab": {
      "collapsed_sections": [
        "zLlT9JTl9dlD",
        "qfQa-qrb66NJ",
        "pttl4qN8y3G5",
        "p4suIz6U1uM3",
        "QSsSWfWg8EFO",
        "zTwOA4Z5DaNP",
        "5ah_6WFsLDT4",
        "L3TqJQ6XMAMs",
        "D72nyIhanlnp",
        "YjMUcyjNnAHy"
      ],
      "provenance": [],
      "authorship_tag": "ABX9TyMZsIeptOc3SyDDCODsfUR5"
    },
    "kernelspec": {
      "display_name": "Python 3",
      "name": "python3"
    },
    "language_info": {
      "name": "python"
    }
  },
  "nbformat": 4,
  "nbformat_minor": 0
}