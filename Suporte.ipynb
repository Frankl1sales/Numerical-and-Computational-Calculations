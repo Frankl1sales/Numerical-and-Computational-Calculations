{
  "nbformat": 4,
  "nbformat_minor": 0,
  "metadata": {
    "colab": {
      "provenance": [],
      "collapsed_sections": [
        "J9i1ChruuJu4"
      ],
      "authorship_tag": "ABX9TyPpWeX6+cW9SELA+QSw6Syw",
      "include_colab_link": true
    },
    "kernelspec": {
      "name": "python3",
      "display_name": "Python 3"
    },
    "language_info": {
      "name": "python"
    }
  },
  "cells": [
    {
      "cell_type": "markdown",
      "metadata": {
        "id": "view-in-github",
        "colab_type": "text"
      },
      "source": [
        "<a href=\"https://colab.research.google.com/github/Frankl1sales/cnc_d/blob/main/Suporte.ipynb\" target=\"_parent\"><img src=\"https://colab.research.google.com/assets/colab-badge.svg\" alt=\"Open In Colab\"/></a>"
      ]
    },
    {
      "cell_type": "markdown",
      "source": [
        "\n",
        "\n",
        "## Bibliotecas\n",
        "\n"
      ],
      "metadata": {
        "id": "xRguMCVgeLUy"
      }
    },
    {
      "cell_type": "code",
      "execution_count": 913,
      "metadata": {
        "id": "AYSiHyTLd_Pd"
      },
      "outputs": [],
      "source": [
        "import numpy as np\n",
        "import matplotlib.pyplot as plt\n",
        "import math\n",
        "import inspect"
      ]
    },
    {
      "cell_type": "markdown",
      "source": [
        "## Bissecção"
      ],
      "metadata": {
        "id": "3gmZZ5oQeXdN"
      }
    },
    {
      "cell_type": "code",
      "source": [
        "tol = 1e-3  # precisão 0,001\n",
        "max_iter = 10 # máximo de iterações"
      ],
      "metadata": {
        "id": "5mF2I-YJeaMt"
      },
      "execution_count": 914,
      "outputs": []
    },
    {
      "cell_type": "code",
      "source": [
        "funcao_exemplo = lambda x: x**3 - 9*x + 3"
      ],
      "metadata": {
        "id": "N8_HBXfVoJHY"
      },
      "execution_count": 915,
      "outputs": []
    },
    {
      "cell_type": "code",
      "source": [
        "def bissecao_precisao (funcao, a, b, tol):\n",
        "  if funcao(a)*funcao(b) >= 0:\n",
        "    print(\"A função deve ter sinais opostos em 'a' e 'b'.\")\n",
        "  iteracao = 0\n",
        "  while (b - a)/2 > tol:\n",
        "    c = (a + b)/2\n",
        "    if funcao(c) == 0:\n",
        "      return c # encontrada a raiz exata\n",
        "    elif funcao(c)*funcao(a) < 0:\n",
        "      b = c\n",
        "    else:\n",
        "          a = c\n",
        "    iteracao += 1\n",
        "  return (a + b)/2"
      ],
      "metadata": {
        "id": "SJc5-nxBelRe"
      },
      "execution_count": 916,
      "outputs": []
    },
    {
      "cell_type": "code",
      "source": [
        "def bissecao_iterativo(funcao, a, b, max_iter):\n",
        "  if funcao(a)*funcao(b) >= 0:\n",
        "    print(\"A função deve ter sinais opostos em 'a' e 'b'.\")\n",
        "  iteracao = 0\n",
        "  while iteracao < max_iter:\n",
        "    c = (a + b)/2\n",
        "    if funcao(c) == 0:\n",
        "      return c # encontrada a raiz exata\n",
        "    elif funcao(c)*funcao(a) < 0:\n",
        "      b = c\n",
        "    else:\n",
        "          a = c\n",
        "    iteracao += 1\n",
        "  return (a + b)/2"
      ],
      "metadata": {
        "id": "86A5uaatICDO"
      },
      "execution_count": 917,
      "outputs": []
    },
    {
      "cell_type": "code",
      "source": [
        "raiz = bissecao_precisao(funcao_exemplo, 0, 1, tol)\n",
        "print(\"A raiz da função é aproximadamente [Metodo por Precisão]:\", raiz)\n",
        "\n",
        "raiz1 = bissecao_iterativo(funcao_exemplo, 0, 1, max_iter)\n",
        "print(\"A raiz da função é aproximadamente [Metodo Iterativo]:\", raiz1)"
      ],
      "metadata": {
        "colab": {
          "base_uri": "https://localhost:8080/"
        },
        "id": "gdcqIgRRerPF",
        "outputId": "d715dd3f-6e9f-4964-d1db-27aabae2aa92"
      },
      "execution_count": 918,
      "outputs": [
        {
          "output_type": "stream",
          "name": "stdout",
          "text": [
            "A raiz da função é aproximadamente [Metodo por Precisão]: 0.3369140625\n",
            "A raiz da função é aproximadamente [Metodo Iterativo]: 0.33740234375\n"
          ]
        }
      ]
    },
    {
      "cell_type": "markdown",
      "source": [
        "## Falsa Posição"
      ],
      "metadata": {
        "id": "XC_E9DUzfOnh"
      }
    },
    {
      "cell_type": "code",
      "source": [
        "tol1 = 5*1e-4\n",
        "tol2 = 5*1e-4\n",
        "max_iter1 = 100"
      ],
      "metadata": {
        "id": "jQ0gUbJLfShl"
      },
      "execution_count": 919,
      "outputs": []
    },
    {
      "cell_type": "code",
      "source": [
        "funcao_exemplo1 = lambda x: x**3 - 9*x + 3"
      ],
      "metadata": {
        "id": "VqdVUxbEoMbi"
      },
      "execution_count": 920,
      "outputs": []
    },
    {
      "cell_type": "code",
      "source": [
        "def falsaposicao_precisao (funcao, a, b, tol1, tol2):\n",
        "# PASSO 1\n",
        "  if funcao(a)*funcao(b) >= 0:\n",
        "    print(\"A função deve ter sinais opostos em 'a' e 'b'.\")\n",
        "    return None\n",
        "\n",
        "# PASSSO 2\n",
        "  if (b - a) < tol1:\n",
        "    print(\" b-a < tol1\")\n",
        "    if abs(funcao(a)) < tol2:\n",
        "      return a\n",
        "    elif abs(funcao(b)) < tol2:\n",
        "      return b\n",
        "# PASSO 3\n",
        "  iteracao1 = 0\n",
        "\n",
        "  while (b - a) > tol1:\n",
        "# PASSO 5\n",
        "    # print(\"entrou no laço\")\n",
        "    x = (a * funcao(b) - b * funcao(a)) / (funcao(b) - funcao(a))\n",
        "# PASSO 6\n",
        "    # convergiu\n",
        "    if abs(funcao(x)) < tol2:\n",
        "      # print(\"f(x) < tol2\")\n",
        "      return x # encontrada a raiz exata\n",
        "    elif funcao(a)*funcao(x) > 0:\n",
        "      a = x\n",
        "      if b-a < tol1:\n",
        "        return x\n",
        "    b = x\n",
        "    iteracao1 += 1\n",
        "  # não convergiu\n",
        "  return None"
      ],
      "metadata": {
        "id": "pD9eNYBui_1B"
      },
      "execution_count": 921,
      "outputs": []
    },
    {
      "cell_type": "code",
      "source": [
        "def falsaposicao_iterativo(funcao, a, b, max_iter):\n",
        "    iteracao = 0\n",
        "\n",
        "    while iteracao < max_iter:\n",
        "        x = (a * funcao(b) - b * funcao(a)) / (funcao(b) - funcao(a))\n",
        "\n",
        "        if funcao(a) * funcao(x) > 0:\n",
        "            a = x\n",
        "        else:\n",
        "            b = x\n",
        "\n",
        "        iteracao += 1\n",
        "\n",
        "    return x"
      ],
      "metadata": {
        "id": "oitXEPEHJ0ly"
      },
      "execution_count": 922,
      "outputs": []
    },
    {
      "cell_type": "code",
      "source": [
        "raiz_fp_precisao = falsaposicao_precisao(funcao_exemplo1, 0, 1, tol1,tol2)\n",
        "print(\"A raiz da função é aproximadamente [Metodo por Precisão]:\", raiz_fp_precisao)\n",
        "\n",
        "raiz_fp_iteracao = falsaposicao_iterativo(funcao_exemplo1, 0, 1, max_iter1)\n",
        "print(\"A raiz da função é aproximadamente [Metodo Iterativo]:\", raiz_fp_iteracao)"
      ],
      "metadata": {
        "colab": {
          "base_uri": "https://localhost:8080/"
        },
        "id": "ZE3MazzZnTsc",
        "outputId": "c132ff6c-39bd-43cf-97b4-7ed68eba9244"
      },
      "execution_count": 923,
      "outputs": [
        {
          "output_type": "stream",
          "name": "stdout",
          "text": [
            "A raiz da função é aproximadamente [Metodo por Precisão]: 0.33763504551140067\n",
            "A raiz da função é aproximadamente [Metodo Iterativo]: 0.33760895596583773\n"
          ]
        }
      ]
    },
    {
      "cell_type": "markdown",
      "source": [
        "## Newton–Raphson"
      ],
      "metadata": {
        "id": "vhylZ2ymJ3f8"
      }
    },
    {
      "cell_type": "code",
      "source": [
        "x0 = 0.5\n",
        "tol = 1e-4\n",
        "max_iter = 3"
      ],
      "metadata": {
        "id": "iby2XMQfJ4Jb"
      },
      "execution_count": 924,
      "outputs": []
    },
    {
      "cell_type": "code",
      "source": [
        "funcao_exemplo2 = lambda x: x**3 - 9*x + 3\n",
        "derivada_exemplo = lambda x: 3*x**2-9"
      ],
      "metadata": {
        "id": "L8uD-V15Lqpc"
      },
      "execution_count": 925,
      "outputs": []
    },
    {
      "cell_type": "code",
      "source": [
        "def newton_raphson_precisao(funcao, derivada, x0, tol):\n",
        "    x_n = x0\n",
        "    iteracao = 0\n",
        "\n",
        "    while True:\n",
        "        f_x_n = funcao(x_n)\n",
        "        f_prime_x_n = derivada(x_n)\n",
        "\n",
        "        #print(f\"Iteração {iteracao}: x = {x_n}, f(x) = {f_x_n}, f'(x) = {f_prime_x_n}\")\n",
        "\n",
        "        # verifica se a função no ponto inicial já está dentro da tolerância\n",
        "        if abs(f_x_n) < tol:\n",
        "            #print(f\"Convergiu após {iteracao+1} iterações.\")\n",
        "            return x_n\n",
        "\n",
        "        # evita divisao por zero\n",
        "        if f_prime_x_n == 0:\n",
        "            print(\"Derivada zero. Não é possível continuar.\")\n",
        "            return None\n",
        "\n",
        "        # calcula a proxima aproximacao\n",
        "        x_n1 = x_n - f_x_n / f_prime_x_n\n",
        "\n",
        "        # verifica a convergência\n",
        "        if abs(funcao(x_n1)) < tol or abs(x_n1 - x_n) < tol:\n",
        "            #print(f\"Convergiu após {iteracao+1} iterações.\")\n",
        "            return x_n1\n",
        "\n",
        "        # itera e atualiza o x_n\n",
        "        x_n = x_n1\n",
        "        iteracao += 1"
      ],
      "metadata": {
        "id": "anyBjabALu3F"
      },
      "execution_count": 926,
      "outputs": []
    },
    {
      "cell_type": "code",
      "source": [
        "def newton_raphson_iterativo(funcao, derivada, x0, max_iter):\n",
        "    x_n = x0\n",
        "\n",
        "    for n in range(max_iter):\n",
        "        f_x_n = funcao(x_n)\n",
        "        f_prime_x_n = derivada(x_n)\n",
        "\n",
        "        if f_prime_x_n == 0:\n",
        "            print(\"Derivada zero. Não é possível continuar.\")\n",
        "            return None\n",
        "\n",
        "        x_n = x_n - f_x_n / f_prime_x_n\n",
        "\n",
        "    return x_n\n"
      ],
      "metadata": {
        "id": "x9RWe-eGOSza"
      },
      "execution_count": 927,
      "outputs": []
    },
    {
      "cell_type": "code",
      "source": [
        "\n",
        "raiz_np_precisao = newton_raphson_precisao(funcao_exemplo2, derivada_exemplo, x0, tol)\n",
        "print(f\"A raiz encontrada é [Metodo por Precisão]: {raiz_np_precisao}\")\n",
        "\n",
        "raiz_np_iterativo = newton_raphson_iterativo(funcao_exemplo2, derivada_exemplo, x0, max_iter)\n",
        "print(f\"A raiz encontrada é [Metodo Iterativo]: {raiz_np_iterativo}\")"
      ],
      "metadata": {
        "colab": {
          "base_uri": "https://localhost:8080/"
        },
        "id": "929nGWhOlHfn",
        "outputId": "61fdd727-f245-4058-8d4f-419746b7bf4f"
      },
      "execution_count": 928,
      "outputs": [
        {
          "output_type": "stream",
          "name": "stdout",
          "text": [
            "A raiz encontrada é [Metodo por Precisão]: 0.33760683760683763\n",
            "A raiz encontrada é [Metodo Iterativo]: 0.3376089559653128\n"
          ]
        }
      ]
    },
    {
      "cell_type": "markdown",
      "source": [
        "## Secante"
      ],
      "metadata": {
        "id": "QAB903le6Iet"
      }
    },
    {
      "cell_type": "code",
      "source": [
        "x0 = 0  # Estimativa inicial 1\n",
        "x1 = 1  # Estimativa inicial 2\n",
        "tol1 = 5*1e-4  # Tolerância\n",
        "tol2 = 5*1e-4\n",
        "max_iter = 3  # Número máximo de iterações"
      ],
      "metadata": {
        "id": "CE8Np9i16Qis"
      },
      "execution_count": 929,
      "outputs": []
    },
    {
      "cell_type": "code",
      "source": [
        "funcao_exemplo3 = lambda x: x**3 - 9*x + 3"
      ],
      "metadata": {
        "id": "7ANytQeiAdL8"
      },
      "execution_count": 930,
      "outputs": []
    },
    {
      "cell_type": "code",
      "source": [
        "def secante_precisao(funcao, x0, x1, tol1,tol2):\n",
        "    iteracao = 0\n",
        "\n",
        "    while True:\n",
        "        f_x0 = funcao(x0)\n",
        "        f_x1 = funcao(x1)\n",
        "\n",
        "        # verifica se a função no ponto inicial já está dentro da tolerância\n",
        "        if abs(f_x0) < tol1:\n",
        "            #print(f\"Convergiu após {iteracao+1} iterações.\")\n",
        "            return x0\n",
        "\n",
        "        # verifica a função no x1\n",
        "        if abs(f_x1) < tol1 or abs(x1 - x0) < tol2:\n",
        "            #print(f\"Convergiu após {iteracao+1} iterações.\")\n",
        "            return x1\n",
        "\n",
        "        # Evitar divisão por zero\n",
        "        if f_x1 == f_x0:\n",
        "            print(\"Divisão por zero. Não é possível continuar.\")\n",
        "            return None\n",
        "\n",
        "        # Fórmula da secante\n",
        "        x2 = x1 - f_x1 * (x1 - x0) / (f_x1 - f_x0)\n",
        "\n",
        "        # Verificar a convergência\n",
        "        if abs(funcao(x2)) < tol1 or abs(x2 - x1) < tol2:\n",
        "            #print(f\"Convergiu após {iteracao+1} iterações.\")\n",
        "            return x2\n",
        "\n",
        "        # Atualizar os valores\n",
        "        x0, x1 = x1, x2\n",
        "        iteracao += 1\n"
      ],
      "metadata": {
        "id": "y6rAeT1OAf7h"
      },
      "execution_count": 931,
      "outputs": []
    },
    {
      "cell_type": "code",
      "source": [
        "def secante_iterativo(funcao, x0, x1, max_iter):\n",
        "    for n in range(max_iter):\n",
        "        f_x0 = funcao(x0)\n",
        "        f_x1 = funcao(x1)\n",
        "\n",
        "        # Evitar divisão por zero\n",
        "        if f_x1 == f_x0:\n",
        "            print(\"Divisão por zero. Não é possível continuar.\")\n",
        "            return None\n",
        "\n",
        "        # Fórmula da secante\n",
        "        x2 = x1 - f_x1 * (x1 - x0) / (f_x1 - f_x0)\n",
        "\n",
        "        # Atualizar os valores\n",
        "        x0, x1 = x1, x2\n",
        "\n",
        "        #print(f\"Iteração {n+1}: x = {x1}\")\n",
        "\n",
        "    #print(\"Número máximo de iterações atingido.\")\n",
        "    return x1"
      ],
      "metadata": {
        "id": "GbrCK1cxhr2h"
      },
      "execution_count": 932,
      "outputs": []
    },
    {
      "cell_type": "code",
      "source": [
        "raiz_s_precisao = secante_precisao(funcao_exemplo3, x0, x1, tol1, tol2)\n",
        "print(f\"A raiz encontrada é [Metodo por Precisão]: {raiz_s_precisao}\")\n",
        "\n",
        "raiz_s_iterativo = secante_iterativo(funcao_exemplo3, x0, x1, max_iter)\n",
        "print(f\"A raiz encontrada é [Metodo Iterativo]: {raiz_s_iterativo}\")"
      ],
      "metadata": {
        "colab": {
          "base_uri": "https://localhost:8080/"
        },
        "id": "eqosWH_IAkwm",
        "outputId": "031c1650-f99f-4508-fbb4-58b8348bb2a5"
      },
      "execution_count": 933,
      "outputs": [
        {
          "output_type": "stream",
          "name": "stdout",
          "text": [
            "A raiz encontrada é [Metodo por Precisão]: 0.33763462072303707\n",
            "A raiz encontrada é [Metodo Iterativo]: 0.33763462072303707\n"
          ]
        }
      ]
    },
    {
      "cell_type": "markdown",
      "source": [
        "## Gráficos"
      ],
      "metadata": {
        "id": "FBap-u5qT-pD"
      }
    },
    {
      "cell_type": "code",
      "source": [
        "\n",
        "f_x_1 = lambda x: x**3 - 9*x + 3"
      ],
      "metadata": {
        "id": "0gUGdqQlUOeA"
      },
      "execution_count": 934,
      "outputs": []
    },
    {
      "cell_type": "code",
      "source": [
        "inicio = 0\n",
        "fim = 1\n",
        "nro_pts = 100\n",
        "curva = np.linspace(inicio, fim, nro_pts)\n",
        "values =  [f_x_1 (value) for value in curva]\n",
        "raiz_g = bissecao_precisao(f_x_1, inicio, fim, tol)\n",
        "print(\"A :\", f_x_1(raiz_g))\n",
        "\n",
        "roots = [raiz_g]"
      ],
      "metadata": {
        "colab": {
          "base_uri": "https://localhost:8080/"
        },
        "id": "J2BOq7PeVqCK",
        "outputId": "d23e77f0-9560-41ee-a60f-f3fccb21f9dc"
      },
      "execution_count": 935,
      "outputs": [
        {
          "output_type": "stream",
          "name": "stdout",
          "text": [
            "A : 0.00020352339993223723\n"
          ]
        }
      ]
    },
    {
      "cell_type": "code",
      "source": [
        "# Função para extrair a expressão lambda como string\n",
        "def lambda_to_string(lambda_func):\n",
        "    lambda_str = inspect.getsource(lambda_func).strip()\n",
        "    lambda_str = lambda_str[lambda_str.find('lambda'):]\n",
        "    return lambda_str"
      ],
      "metadata": {
        "id": "WpLeyigkP7jR"
      },
      "execution_count": 936,
      "outputs": []
    },
    {
      "cell_type": "code",
      "source": [
        "def plot_function(f_x_1, lambda_to_string, raizes_grafico, inicio, fim, nro_pts):\n",
        "    # Gere os pontos da curva\n",
        "    curva = np.linspace(inicio, fim, nro_pts)\n",
        "\n",
        "    # Calcule os valores da função nos pontos da curva\n",
        "    values = [f_x_1(value) for value in curva]\n",
        "\n",
        "    # Plote a curva\n",
        "    plt.plot(curva, values, linestyle='dotted')\n",
        "\n",
        "    # Adicione as raízes como pontos no gráfico\n",
        "    for raiz in raizes_grafico:\n",
        "        plt.plot(raiz, f_x_1(raiz), 'ro')  # Apenas plota o ponto vermelho\n",
        "        print(f\"f({raiz}): {f_x_1(raiz)}\")\n",
        "    # Converta a função lambda em string\n",
        "    func_str = lambda_to_string(f_x_1)\n",
        "\n",
        "    # Adicione linhas para os eixos x e y\n",
        "    plt.axhline(0, color='black', linewidth=0.5)\n",
        "    plt.axvline(0, color='black', linewidth=0.2)\n",
        "\n",
        "    # Defina os limites dos eixos\n",
        "    plt.xlim(inicio, fim)\n",
        "    plt.ylim(min(values), max(values))\n",
        "\n",
        "    # Adicione rótulos e título\n",
        "    plt.xlabel('x')\n",
        "    plt.ylabel('f(x)')\n",
        "    plt.title(f'Gráfico de f(x) = {func_str}')\n",
        "\n",
        "    # Adicione a legenda\n",
        "    plt.legend(['Função', 'Raízes Aprox'])\n",
        "\n",
        "    # Adicione texto com o valor de f_x nas raízes\n",
        "    for raiz in raizes_grafico:\n",
        "        texto = f\"f_x({raiz:.9f}) = {f_x_1(raiz):.6f}\"\n",
        "        plt.text(raiz, f_x_1(raiz), texto, fontsize=12, verticalalignment='bottom', horizontalalignment='right')\n",
        "\n",
        "    plt.grid()\n",
        "\n",
        "    # Mostre o gráfico\n",
        "    plt.show()"
      ],
      "metadata": {
        "id": "9-ScubQYVxgZ"
      },
      "execution_count": 937,
      "outputs": []
    },
    {
      "cell_type": "code",
      "source": [
        "plot_function(f_x_1,lambda_to_string, roots, inicio, fim, nro_pts)"
      ],
      "metadata": {
        "colab": {
          "base_uri": "https://localhost:8080/",
          "height": 489
        },
        "id": "6TkdLuQrJnxF",
        "outputId": "70a44ac8-5157-492d-a9da-1fac0e39829f"
      },
      "execution_count": 938,
      "outputs": [
        {
          "output_type": "stream",
          "name": "stdout",
          "text": [
            "f(0.33758544921875): 0.00020352339993223723\n"
          ]
        },
        {
          "output_type": "display_data",
          "data": {
            "text/plain": [
              "<Figure size 640x480 with 1 Axes>"
            ],
            "image/png": "[encoded data removed]"
          },
          "metadata": {}
        }
      ]
    },
    {
      "cell_type": "markdown",
      "source": [
        "## Exercícios"
      ],
      "metadata": {
        "id": "mQ4qI7OIA8cL"
      }
    },
    {
      "cell_type": "markdown",
      "source": [
        "### Exercício 1\n"
      ],
      "metadata": {
        "id": "3xELw6dJBqtp"
      }
    },
    {
      "cell_type": "markdown",
      "source": [
        "```\n",
        "1) A função f (x) = tgπ x - 6 tem um zero em (1/π) arctg 6 ≈ 0,447431543. Sejam x0\n",
        "= 0 e x1 = 0,48. Utilize 10 interações de cada um dos métodos a seguir para encontrar a aproximação dessa raiz.\n",
        "Qual é o método mais eficiente e por quê?\n",
        " a. Método da Bissecção\n",
        " b. Método da Falsa Posição\n",
        " c. Método da Secante\n",
        " d. Faça a comparação dos erros relativos percentuais para os métodos para determinar a raiz da função\n",
        " ```"
      ],
      "metadata": {
        "id": "hDnEQc1GB4HY"
      }
    },
    {
      "cell_type": "code",
      "source": [
        "funcao_exemplo_ex01 = lambda x: math.tan(math.pi * x) - 6\n",
        "x0 = 0\n",
        "x1 = 0.48\n",
        "max_iter = 10\n"
      ],
      "metadata": {
        "id": "zyc_D3DDBnjh"
      },
      "execution_count": 939,
      "outputs": []
    },
    {
      "cell_type": "code",
      "source": [
        "raiz_bis_ex01 = bissecao_iterativo(funcao_exemplo_ex01, x0, x1, max_iter)\n",
        "print(f\"A raiz  bissecção encontrada é: {raiz_bis_ex01}\")\n",
        "\n",
        "raiz_fp_ex01 = falsaposicao_iterativo(funcao_exemplo_ex01, x0, x1, max_iter)\n",
        "print(f\"A raiz  falsa posição encontrada é: {raiz_fp_ex01}\")\n",
        "\n",
        "raiz_s_ex01 = secante_iterativo(funcao_exemplo_ex01, x0, x1, max_iter)\n",
        "print(f\"A raiz  secante encontrada é: {raiz_s_ex01}\")"
      ],
      "metadata": {
        "colab": {
          "base_uri": "https://localhost:8080/"
        },
        "id": "HfI31DLCDR0F",
        "outputId": "32235f2c-1769-4586-fd5a-61327fcea7ef"
      },
      "execution_count": 940,
      "outputs": [
        {
          "output_type": "stream",
          "name": "stdout",
          "text": [
            "A raiz  bissecção encontrada é: 0.44742187499999997\n",
            "A raiz  falsa posição encontrada é: 0.44412066175818793\n",
            "A raiz  secante encontrada é: -2989.9400375314453\n"
          ]
        }
      ]
    },
    {
      "cell_type": "markdown",
      "source": [
        "```\n",
        "Fórmula para o Erro Relativo Percentual:\n",
        "\n",
        "Erro Relativo Percentual=∣Valor Aproximado− ValorReal∣×100%\n",
        "```\n"
      ],
      "metadata": {
        "id": "HO6X0-hpFy0Q"
      }
    },
    {
      "cell_type": "code",
      "source": [
        "vreal = 0.447431543"
      ],
      "metadata": {
        "id": "UDN50Uu5S07f"
      },
      "execution_count": 941,
      "outputs": []
    },
    {
      "cell_type": "code",
      "source": [
        "erro_relativo_bis = abs((raiz_bis_ex01 - vreal)/vreal)*100\n",
        "print(f\"Erro relativo percentual (Bisseção): {erro_relativo_bis}%\")\n",
        "\n",
        "erro_relativo_fp = abs((raiz_fp_ex01 - vreal)/vreal)*100\n",
        "print(f\"Erro relativo percentual (Bisseção): {erro_relativo_fp}%\")\n",
        "\n",
        "erro_relativo_s = abs((raiz_s_ex01 - vreal)/vreal)*100\n",
        "print(f\"Erro relativo percentual (Bisseção): {erro_relativo_s}%\")"
      ],
      "metadata": {
        "colab": {
          "base_uri": "https://localhost:8080/"
        },
        "id": "UiLQI2ruTJa_",
        "outputId": "45e9000e-e198-4f54-97a2-5a2a074a38d3"
      },
      "execution_count": 942,
      "outputs": [
        {
          "output_type": "stream",
          "name": "stdout",
          "text": [
            "Erro relativo percentual (Bisseção): 0.0021607774756323378%\n",
            "Erro relativo percentual (Bisseção): 0.7399749288154363%\n",
            "Erro relativo percentual (Bisseção): 668345.2509905958%\n"
          ]
        }
      ]
    },
    {
      "cell_type": "markdown",
      "source": [
        "descriver o por que bissecção é melhor"
      ],
      "metadata": {
        "id": "T_CM3Cnix8s6"
      }
    },
    {
      "cell_type": "markdown",
      "source": [
        "### Exercício 2\n",
        "\n",
        "\n",
        "2) O polinômio de quarto grau f (x) = 230x4 + 18x3 + 9x2 - 221x - 9, tem dois zeros\n",
        "reais, um em [-1, 0] e outro em [0, 1]. Tente encontrar a aproximação desses\n",
        "zeros com a precisão de 10-6, utilizando o\n",
        "a. Método da Falsa Posição\n",
        "b. Método da Secante\n",
        "c. Método de Newton-Raphson/Tangente\n",
        "d. Plote um gráfico para explicar a diferença entre os resultados obtidos pelos\n",
        "Métodos da Falsa Posição e da Secante\n",
        "Utilize as extremidades de cada intervalo como aproximações iniciais em (a) e\n",
        "(b) e os pontos médios como as aproximações iniciais em (c).\n",
        "\n",
        "\n"
      ],
      "metadata": {
        "id": "leS8k1J9XDc8"
      }
    },
    {
      "cell_type": "markdown",
      "source": [
        "Comentário: as raízes verificada nos intervalos [0,1] acabavam convergindo para um valor negativo - o valor correspondente da raíz no intervalo [-1,0], obviamente algo de errado não estava certo. Portanto, utilizando-se do wolframalpha, notou-se que a raiz no intervalo [0,1] era muito próximo de 1, então a ideia foi deslocar o a2 para 0.5 e o b2 para 1.5, obtendo-se a aproximação correta da raíz no intervalo\n",
        "\n",
        "segue o link wofpha: [raizes da função - WolframAlpha](https://www.wolframalpha.com/input?i=230*x%5E4+%2B+18*x3+%2B+9*x%5E2+-+221*x+-+9)"
      ],
      "metadata": {
        "id": "qmNiBNNUzWAp"
      }
    },
    {
      "cell_type": "code",
      "source": [
        "funcao_exemplo_ex02 = lambda x: 230*x**4 + 18*x**3 + 9*x**2 - 221*x - 9\n",
        "derivada_ex02 = lambda x: 920*x**3 + 54*x**2 + 18*x - 221\n",
        "\n",
        "a1, b1 = -1, 0\n",
        "a2, b2 = 0.5, 1.5\n",
        "\n",
        "x0 = (a1 + b1) / 2\n",
        "x1 = (a2 + b2) / 2\n",
        "\n",
        "tol1 = 1e-6\n",
        "tol2 = 1e-6"
      ],
      "metadata": {
        "id": "7LXKVrWVYLfp"
      },
      "execution_count": 943,
      "outputs": []
    },
    {
      "cell_type": "code",
      "source": [
        "raiz_fp_ex02 = falsaposicao_precisao(funcao_exemplo_ex02, a1, b1, tol1, tol2)\n",
        "print(f\"A raiz  falsa posição encontrada é: {raiz_fp_ex02}\")\n",
        "\n",
        "raiz_fp_ex02_2 = falsaposicao_precisao(funcao_exemplo_ex02, 0.5, 1.5, tol1, tol2)\n",
        "print(f\"A raiz  falsa posição 2 encontrada é em [0,1]: {raiz_fp_ex02_2}\")\n",
        "\n",
        "raiz_s_ex02 = secante_precisao(funcao_exemplo_ex02, a1, b1, tol1, tol2)\n",
        "print(f\"A raiz  secante encontrada é: {raiz_s_ex02}\")\n",
        "\n",
        "raiz_s_ex02_2 = secante_precisao(funcao_exemplo_ex02, 0.5, 1.5, tol1, tol2)\n",
        "print(f\"A raiz  secante 2 encontrada é em [0,1]: {raiz_s_ex02_2}\")\n",
        "\n",
        "raiz_nr_ex02 = newton_raphson_precisao(funcao_exemplo_ex02,derivada_ex02, x0, tol1)\n",
        "print(f\"A raiz  nr encontrada é: {raiz_nr_ex02}\")\n",
        "\n",
        "raiz_nr_ex02_2 = newton_raphson_precisao(funcao_exemplo_ex02,derivada_ex02, x1, tol1)\n",
        "print(f\"A raiz  nr 2 encontrada é em [0,1]: {raiz_nr_ex02_2}\")"
      ],
      "metadata": {
        "colab": {
          "base_uri": "https://localhost:8080/"
        },
        "id": "9K2NlDKxY_R8",
        "outputId": "40c963d0-9a16-446b-f0db-6e85e04f09c4"
      },
      "execution_count": 944,
      "outputs": [
        {
          "output_type": "stream",
          "name": "stdout",
          "text": [
            "A raiz  falsa posição encontrada é: -0.040659284770926674\n",
            "A raiz  falsa posição 2 encontrada é em [0,1]: None\n",
            "A raiz  secante encontrada é: -0.040659288315725135\n",
            "A raiz  secante 2 encontrada é em [0,1]: 0.9623984187470688\n",
            "A raiz  nr encontrada é: -0.04065928831575899\n",
            "A raiz  nr 2 encontrada é em [0,1]: 0.9623984191063186\n"
          ]
        }
      ]
    },
    {
      "cell_type": "markdown",
      "source": [
        "\n",
        "```\n",
        "Na aplicação da falsa posição no intervalo [0,1] infelizmente não houve converg\n",
        "\n",
        "```"
      ],
      "metadata": {
        "id": "TVKLwCgavHxm"
      }
    },
    {
      "cell_type": "markdown",
      "source": [
        "Escolhe-se as aproximações no intervalo [-1,0] e depois as do [0,1]"
      ],
      "metadata": {
        "id": "Y2ceID7xdgEn"
      }
    },
    {
      "cell_type": "code",
      "source": [
        "roots_ex02_1 = [raiz_fp_ex02, raiz_s_ex02, raiz_nr_ex02]\n",
        "roots_ex02_2 = [raiz_s_ex02_2, raiz_nr_ex02_2]"
      ],
      "metadata": {
        "id": "v12C6YkqKABX"
      },
      "execution_count": 945,
      "outputs": []
    },
    {
      "cell_type": "code",
      "source": [
        "plot_function(funcao_exemplo_ex02,lambda_to_string, roots_ex02_1, -0.040659289, -0.04065928, nro_pts)"
      ],
      "metadata": {
        "colab": {
          "base_uri": "https://localhost:8080/",
          "height": 539
        },
        "id": "fFDT9MtARO5o",
        "outputId": "c1f52384-2425-4355-eb62-2e72a7bf3bac"
      },
      "execution_count": 946,
      "outputs": [
        {
          "output_type": "stream",
          "name": "stdout",
          "text": [
            "f(-0.040659284770926674): -7.859050175085258e-07\n",
            "f(-0.040659288315725135): -7.478462293875054e-12\n",
            "f(-0.04065928831575899): 2.842170943040401e-14\n"
          ]
        },
        {
          "output_type": "display_data",
          "data": {
            "text/plain": [
              "<Figure size 640x480 with 1 Axes>"
            ],
            "image/png": "[encoded data removed]"
          },
          "metadata": {}
        }
      ]
    },
    {
      "cell_type": "code",
      "source": [
        "plot_function(funcao_exemplo_ex02,lambda_to_string, roots_ex02_2, 0.965, 0.962, nro_pts)"
      ],
      "metadata": {
        "colab": {
          "base_uri": "https://localhost:8080/",
          "height": 507
        },
        "id": "dOtcSSGseRo2",
        "outputId": "a1fa2202-64d3-4ebc-b186-b30845073493"
      },
      "execution_count": 947,
      "outputs": [
        {
          "output_type": "stream",
          "name": "stdout",
          "text": [
            "f(0.9623984187470688): -2.3142376903706463e-09\n",
            "f(0.9623984191063186): 2.3709401375526795e-07\n"
          ]
        },
        {
          "output_type": "display_data",
          "data": {
            "text/plain": [
              "<Figure size 640x480 with 1 Axes>"
            ],
            "image/png": "[encoded data removed]"
          },
          "metadata": {}
        }
      ]
    },
    {
      "cell_type": "markdown",
      "source": [
        "Podemos então perceber que as aproximações das raízes são: [-1,0] : `-0.04065928831575899`\n",
        " e [0,1] : `0.9623984187470688`\n"
      ],
      "metadata": {
        "id": "kg8RdYzXaHN0"
      }
    },
    {
      "cell_type": "markdown",
      "source": [
        "### Exercício 3\n",
        "3) Uma gamela de comprimento L tem seção transversal semicircular com raio r\n",
        "(veja a figura abaixo). Quando a gamela está cheia com água até uma distância\n",
        "h do topo, o volume V de água é V = L [0,5πr2 - r2arcsen(h/r) - h(r2 – h2)1/2]\n"
      ],
      "metadata": {
        "id": "mTBj9ynLukIz"
      }
    },
    {
      "cell_type": "code",
      "source": [
        "L = 10\n",
        "V_desejado = 12.4\n",
        "r = 1\n",
        "\n",
        "a = 0\n",
        "b = r\n",
        "tol_ex03 = 0.01\n",
        "\n",
        "vol = lambda h: L * ((0.5 * math.pi * r**2) - r**2* math.asin(h/r) - h * (r**2 - h**2)**(1/2))- V_desejado\n"
      ],
      "metadata": {
        "id": "QMdBTLOdur4O"
      },
      "execution_count": 948,
      "outputs": []
    },
    {
      "cell_type": "markdown",
      "source": [
        "\n",
        "Na análise geral sobre o exercício, compreendeu-se que o volume especificado corresponde ao volume da água na gamela = 12.4 pes. Dessa forma, para que possamos utilizar o método bissecção foi feita a função_volume [**vol()**] substraida por [**12.4 pes**]. Espera-se com o método seja encontrado a raiz, que representa a medição da água até o topo da gamela [**h**].\n"
      ],
      "metadata": {
        "id": "XI2tU4bJ-e_i"
      }
    },
    {
      "cell_type": "code",
      "source": [
        "h_bis = bissecao_precisao (vol, a, b, tol_ex03)\n",
        "print(f\"A distancia da água até o topo da gamela é [h] bisseccao: {h_bis:.6f} pés.\")\n",
        "\n",
        "h_fp = falsaposicao_precisao (vol, a, b, tol_ex03, tol_ex03)\n",
        "print(f\"A distancia da água até o topo da gamela é [h] falsaposicao: {h_fp:.6f} pés.\")"
      ],
      "metadata": {
        "colab": {
          "base_uri": "https://localhost:8080/"
        },
        "id": "SuNWTMza5J14",
        "outputId": "5b4e5351-10fa-468d-c50d-19872daaea3b"
      },
      "execution_count": 949,
      "outputs": [
        {
          "output_type": "stream",
          "name": "stdout",
          "text": [
            "A distancia da água até o topo da gamela é [h] bisseccao: 0.164062 pés.\n",
            "A distancia da água até o topo da gamela é [h] falsaposicao: 0.166638 pés.\n"
          ]
        }
      ]
    },
    {
      "cell_type": "markdown",
      "source": [
        "Também inferiu-se que a questão pede a profundidade da água na gamela, portanto, de posse do valor de [h], pode-se encontrar a profundidade através de: profundidade = r - h"
      ],
      "metadata": {
        "id": "-w2r-0z7BJPV"
      }
    },
    {
      "cell_type": "code",
      "source": [
        "profundidade = r - h_bis\n",
        "print(f\"A profundidade da água na gamela é aproximadamente {profundidade:.6f} pés.\")"
      ],
      "metadata": {
        "colab": {
          "base_uri": "https://localhost:8080/"
        },
        "id": "6sxF4H-eCBjp",
        "outputId": "68c7170c-9cd2-4a14-92c0-ffc7d9fe0698"
      },
      "execution_count": 950,
      "outputs": [
        {
          "output_type": "stream",
          "name": "stdout",
          "text": [
            "A profundidade da água na gamela é aproximadamente 0.835938 pés.\n"
          ]
        }
      ]
    },
    {
      "cell_type": "markdown",
      "source": [
        "### Exercício 4\n",
        "\n",
        "4) Você está projetando um tanque esférico (veja a figura abaixo) para armazenar\n",
        "água para uma pequena cidade num país.\n",
        "O volume de líquido que ele pode armazenar pode ser calculado por\n",
        "V =π h2 [3 R−h]\n",
        "3\n",
        "Onde V é o volume (m3), h é a profundidade de água no tanque (m) e R é o raio\n",
        "do tanque (m). Se R = 3m, até qual profundidade o tanque deve ser enchido\n",
        "para conter 30 m3? Use 3 iterações do Método do Newton-Raphson/Tangente\n",
        "para obter a resposta."
      ],
      "metadata": {
        "id": "z1WcAzK-C66t"
      }
    },
    {
      "cell_type": "code",
      "source": [
        "r = 3\n",
        "max_iter = 3"
      ],
      "metadata": {
        "id": "RwDvm41bFO9R"
      },
      "execution_count": 951,
      "outputs": []
    },
    {
      "cell_type": "markdown",
      "source": [
        "Entendeu-se que a altura máxima que [h] pode atingir é 2*raio = 2r = 6m.\n",
        "Sendo assim, o intervalo de observação é [0,6] e como no exercício 2, podemos utilizar o ponto médio como a aproximação inicial para exercutar o newton_raphson()"
      ],
      "metadata": {
        "id": "39iNnrXVG2gP"
      }
    },
    {
      "cell_type": "code",
      "source": [
        "a = 0\n",
        "b = 6\n",
        "x0 = (b-a)/2"
      ],
      "metadata": {
        "id": "D_h4cM1aHfxB"
      },
      "execution_count": 952,
      "outputs": []
    },
    {
      "cell_type": "code",
      "source": [
        "# encontra o h quando v = 30\n",
        "vol_menos_voldesejado = lambda h: math.pi * h**2*((3*r-h)/3)-30\n",
        "derivada_ex04 = lambda h: math.pi * (2*r*h - h**2)"
      ],
      "metadata": {
        "id": "da5Oo-bBDfFo"
      },
      "execution_count": 953,
      "outputs": []
    },
    {
      "cell_type": "code",
      "source": [
        "h_nr = newton_raphson_iterativo(vol_menos_voldesejado, derivada_ex04, x0, max_iter)\n",
        "print(f\"A altura [h] quando temos volume = 30 m cubicos:  {h_nr:.6f} m.\")"
      ],
      "metadata": {
        "colab": {
          "base_uri": "https://localhost:8080/"
        },
        "id": "_YI4Z-dRFU9E",
        "outputId": "5c5c1ac5-23be-4822-f40a-b5cdf3ec39cb"
      },
      "execution_count": 954,
      "outputs": [
        {
          "output_type": "stream",
          "name": "stdout",
          "text": [
            "A altura [h] quando temos volume = 30 m cubicos:  2.026906 m.\n"
          ]
        }
      ]
    },
    {
      "cell_type": "markdown",
      "source": [
        "### Exercício 5\n",
        "5) O Método de Newton-Raphson/Tangente pode não ser convergente. Verifique\n",
        "que, para as funções e estimativas iniciais mostradas em (a) e (b), o método\n",
        "não funciona.\n",
        "\n",
        "a. f(x) = 1/10 + xe–x com x1 = 2\n",
        "b. f(x) = x3 – x – 3 com x1 = -3\n",
        "\n",
        "x*e⁻x\n",
        "\n",
        "(xe⁻x)'\n",
        "\n",
        "x'*e⁻x + e⁻x'*x\n",
        "\n",
        "e⁻x + e⁻x*(-x)'*x\n",
        "\n",
        "e⁻x - e⁻x*x\n",
        "\n",
        "derivada = e⁻x(1-x)"
      ],
      "metadata": {
        "id": "J9i1ChruuJu4"
      }
    },
    {
      "cell_type": "code",
      "source": [
        "funcao_ex05_a = lambda x: 1/10 + x * math.exp(-x)\n",
        "derivada_ex05_a = lambda x:  (1-x) * math.exp(-x)\n",
        "\n",
        "tol1 = 1e-2\n",
        "x0 = 2\n",
        "x1 = -3\n",
        "funcao_ex05_b = lambda x: x**3 - x - 3\n",
        "derivada_ex05_b = lambda x:  3*x**2 -1"
      ],
      "metadata": {
        "id": "QxRr8hLK3IjK"
      },
      "execution_count": 955,
      "outputs": []
    },
    {
      "cell_type": "code",
      "source": [
        "# Testando a parte (a)\n",
        "raiz_nr_ex05_a = newton_raphson_precisao(funcao_ex05_a, derivada_ex05_a, x0, tol1)\n",
        "print(f\"A raiz NR da função a encontrada é: {raiz_nr_ex05_a}\")\n",
        "\n",
        "# Testando a parte (b)\n",
        "raiz_nr_ex05_b = newton_raphson_precisao(funcao_ex05_b, derivada_ex05_b, x0, tol1)\n",
        "print(f\"A raiz NR da função b encontrada é: {raiz_nr_ex05_b}\")\n",
        "print(f\"euler : {math.exp(-2)}\")"
      ],
      "metadata": {
        "id": "KOqxZqht72MK",
        "outputId": "bf105c8a-bf04-4b13-c785-54ff06855467",
        "colab": {
          "base_uri": "https://localhost:8080/"
        }
      },
      "execution_count": 956,
      "outputs": [
        {
          "output_type": "stream",
          "name": "stdout",
          "text": [
            "Derivada zero. Não é possível continuar.\n",
            "A raiz NR da função a encontrada é: None\n",
            "A raiz NR da função b encontrada é: 1.671702569747502\n",
            "euler : 0.1353352832366127\n"
          ]
        }
      ]
    },
    {
      "cell_type": "markdown",
      "source": [
        "O problema que estamos observando letra \"a\" é que o método de Newton-Raphson está divergindo, resultando em valores de x cada vez maiores até que a `derivada se aproxima de zero`, o que interrompe o processo. Isso demonstra um dos problemas e limitações do método de Newton-Raphson: ele pode não convergir para certas funções e estimativas iniciais."
      ],
      "metadata": {
        "id": "Bb-fWGCDY38I"
      }
    }
  ]
}