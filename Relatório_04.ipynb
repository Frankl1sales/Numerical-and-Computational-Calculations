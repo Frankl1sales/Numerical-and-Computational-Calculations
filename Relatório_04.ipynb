{
  "nbformat": 4,
  "nbformat_minor": 0,
  "metadata": {
    "colab": {
      "provenance": [],
      "authorship_tag": "ABX9TyP060rm+UTzFNx8GA3dwuep",
      "include_colab_link": true
    },
    "kernelspec": {
      "name": "python3",
      "display_name": "Python 3"
    },
    "language_info": {
      "name": "python"
    }
  },
  "cells": [
    {
      "cell_type": "markdown",
      "metadata": {
        "id": "view-in-github",
        "colab_type": "text"
      },
      "source": [
        "<a href=\"https://colab.research.google.com/github/Frankl1sales/Numerical-and-Computational-Calculations/blob/main/Relat%C3%B3rio_04.ipynb\" target=\"_parent\"><img src=\"https://colab.research.google.com/assets/colab-badge.svg\" alt=\"Open In Colab\"/></a>"
      ]
    },
    {
      "cell_type": "markdown",
      "source": [
        "# Metódos"
      ],
      "metadata": {
        "id": "LyBUHppF_8rM"
      }
    },
    {
      "cell_type": "markdown",
      "source": [
        "## Bbliotecas"
      ],
      "metadata": {
        "id": "Z7m_4xsAADHc"
      }
    },
    {
      "cell_type": "code",
      "source": [
        "import math\n",
        "import numpy as np\n",
        "import matplotlib.pyplot as plt"
      ],
      "metadata": {
        "id": "Fuf4MvBZMSKc"
      },
      "execution_count": 12,
      "outputs": []
    },
    {
      "cell_type": "markdown",
      "source": [
        "## Trapézio"
      ],
      "metadata": {
        "id": "u9Qz-0nuBFxY"
      }
    },
    {
      "cell_type": "code",
      "execution_count": 13,
      "metadata": {
        "id": "qLGnBEUmu00k"
      },
      "outputs": [],
      "source": [
        "def trap(h, f0, f1):\n",
        "    return h * (f0 + f1) / 2"
      ]
    },
    {
      "cell_type": "code",
      "source": [
        "def trapm(h, n, f):\n",
        "    sum_ = f(0)\n",
        "    for i in range(1, n):\n",
        "        sum_ += 2 * f(i)\n",
        "    sum_ += f(n)\n",
        "    return h * sum_ / 2"
      ],
      "metadata": {
        "id": "H4QxzeZmu4n8"
      },
      "execution_count": 14,
      "outputs": []
    },
    {
      "cell_type": "code",
      "source": [
        "# Exemplo de uso:\n",
        "# Definindo a função a ser integrada, por exemplo, f(x) = x^2\n",
        "f = lambda x: x**2\n",
        "\n",
        "# Definindo os parâmetros\n",
        "h = 1.0\n",
        "n = 4\n",
        "\n",
        "# Calculando a integral aproximada\n",
        "resultado = trapm(h, n, f)\n",
        "print(f\"A integral aproximada é: {resultado}\")"
      ],
      "metadata": {
        "id": "jGzDiG6NvGJY",
        "colab": {
          "base_uri": "https://localhost:8080/"
        },
        "outputId": "b90515f5-58b5-46cf-d2ef-c598451ee025"
      },
      "execution_count": 15,
      "outputs": [
        {
          "output_type": "stream",
          "name": "stdout",
          "text": [
            "A integral aproximada é: 22.0\n"
          ]
        }
      ]
    },
    {
      "cell_type": "markdown",
      "source": [
        "## Regra de 1/3 de Simpson para um único segmento"
      ],
      "metadata": {
        "id": "6QEOX8iCB5RA"
      }
    },
    {
      "cell_type": "code",
      "source": [
        "simpson13 = lambda h, f0, f1, f2: (2 * h * (f0 + 4 * f1 + f2)) / 6\n",
        "\n",
        "# Exemplo de uso:\n",
        "# Definindo a função a ser integrada, por exemplo, f(x) = x^2\n",
        "f = lambda x: x**2\n",
        "\n",
        "# Definindo os parâmetros\n",
        "h = 1.0\n",
        "f0 = f(0)\n",
        "f1 = f(0.5)\n",
        "f2 = f(1)\n",
        "\n",
        "# Calculando a integral aproximada\n",
        "resultado = simpson13(h, f0, f1, f2)\n",
        "print(f\"A integral aproximada usando Simpson 1/3 é: {resultado}\")\n"
      ],
      "metadata": {
        "colab": {
          "base_uri": "https://localhost:8080/"
        },
        "id": "ELfsNXeQB6U_",
        "outputId": "d2ac2bd8-c46b-4711-b77e-96a5d5d7ee1d"
      },
      "execution_count": 16,
      "outputs": [
        {
          "output_type": "stream",
          "name": "stdout",
          "text": [
            "A integral aproximada usando Simpson 1/3 é: 0.6666666666666666\n"
          ]
        }
      ]
    },
    {
      "cell_type": "markdown",
      "source": [
        "## Regra de 3/8 de Simpson para um único segmento"
      ],
      "metadata": {
        "id": "X6r_XafdB845"
      }
    },
    {
      "cell_type": "code",
      "source": [
        "simpson38 = lambda h, f0, f1, f2, f3: (3 * h * (f0 + 3 * (f1 + f2) + f3)) / 8\n",
        "\n",
        "# Exemplo de uso:\n",
        "# Definindo a função a ser integrada, por exemplo, f(x) = x^2\n",
        "f = lambda x: x**2\n",
        "\n",
        "# Definindo os parâmetros\n",
        "h = 1.0\n",
        "f0 = f(0)\n",
        "f1 = f(1/3)\n",
        "f2 = f(2/3)\n",
        "f3 = f(1)\n",
        "\n",
        "# Calculando a integral aproximada\n",
        "resultado = simpson38(h, f0, f1, f2, f3)\n",
        "print(f\"A integral aproximada usando Simpson 3/8 é: {resultado}\")\n",
        "\n"
      ],
      "metadata": {
        "colab": {
          "base_uri": "https://localhost:8080/"
        },
        "id": "xyEIx3UqB9da",
        "outputId": "d62df0e1-4d70-480c-8baa-b37008067fca"
      },
      "execution_count": 17,
      "outputs": [
        {
          "output_type": "stream",
          "name": "stdout",
          "text": [
            "A integral aproximada usando Simpson 3/8 é: 1.0\n"
          ]
        }
      ]
    },
    {
      "cell_type": "markdown",
      "source": [
        "## Regra de 1/3 de Simpson para múltiplos segmentos"
      ],
      "metadata": {
        "id": "Dw1KLGDTCVlw"
      }
    },
    {
      "cell_type": "code",
      "source": [
        "def simpson13m(h, n, f):\n",
        "    sum_ = f(0)\n",
        "    for i in range(1, n, 2):\n",
        "        sum_ += 4 * f(i * h)\n",
        "    for i in range(2, n - 1, 2):\n",
        "        sum_ += 2 * f(i * h)\n",
        "    sum_ += f(n * h)\n",
        "    return (h * sum_) / 3\n",
        "\n",
        "# Exemplo de uso:\n",
        "# Definindo a função a ser integrada, por exemplo, f(x) = x^2\n",
        "f = lambda x: x**2\n",
        "\n",
        "# Definindo os parâmetros\n",
        "a = 0\n",
        "b = 1\n",
        "n = 4\n",
        "h = (b - a) / n\n",
        "\n",
        "# Calculando a integral aproximada\n",
        "resultado = simpson13m(h, n, f)\n",
        "print(f\"A integral aproximada usando múltiplos segmentos Simpson 1/3 é: {resultado}\")\n"
      ],
      "metadata": {
        "colab": {
          "base_uri": "https://localhost:8080/"
        },
        "id": "xzYTAgsNCWBl",
        "outputId": "7148656e-f078-4d69-d101-7fb9b2c8b4e0"
      },
      "execution_count": 18,
      "outputs": [
        {
          "output_type": "stream",
          "name": "stdout",
          "text": [
            "A integral aproximada usando múltiplos segmentos Simpson 1/3 é: 0.3333333333333333\n"
          ]
        }
      ]
    },
    {
      "cell_type": "markdown",
      "source": [
        "## Método do 3/8 Simpson Repetido"
      ],
      "metadata": {
        "id": "jfJ34pjHL0hc"
      }
    },
    {
      "cell_type": "code",
      "source": [
        "def simpson38m(h, n, f):\n",
        "    sum_ = f(0)\n",
        "    for i in range(1, n):\n",
        "        if i % 3 == 0:\n",
        "            sum_ += 2 * f(i * h)\n",
        "        else:\n",
        "            sum_ += 3 * f(i * h)\n",
        "    sum_ += f(n * h)\n",
        "    return (3 * h * sum_) / 8\n",
        "\n",
        "# Exemplo de uso:\n",
        "# Definindo a função a ser integrada, por exemplo, f(x) = x^2\n",
        "f = lambda x: x**2\n",
        "\n",
        "# Definindo os parâmetros\n",
        "a = 0\n",
        "b = 1\n",
        "n = 3  # Número de subintervalos (deve ser múltiplo de 3 para o método 3/8)\n",
        "h = (b - a) / n\n",
        "\n",
        "# Calculando a integral aproximada\n",
        "resultado = simpson38m(h, n, f)\n",
        "print(f\"A integral aproximada usando múltiplos segmentos Simpson 3/8 é: {resultado}\")\n"
      ],
      "metadata": {
        "colab": {
          "base_uri": "https://localhost:8080/"
        },
        "id": "cCtMUCTmLTNF",
        "outputId": "f9315e7c-685f-4da1-b0f8-941ffd557865"
      },
      "execution_count": 19,
      "outputs": [
        {
          "output_type": "stream",
          "name": "stdout",
          "text": [
            "A integral aproximada usando múltiplos segmentos Simpson 3/8 é: 0.3333333333333333\n"
          ]
        }
      ]
    },
    {
      "cell_type": "markdown",
      "source": [
        "## Aplicação múltipla da regra de Simpson tanto para número par quanto ímpar de segmentos"
      ],
      "metadata": {
        "id": "GZ-Juo1OCafb"
      }
    },
    {
      "cell_type": "code",
      "source": [
        "def simpson_int(a, b, n, f):\n",
        "    h = (b - a) / n\n",
        "    sum_ = 0\n",
        "\n",
        "    if n == 1:\n",
        "        sum_ = simpson13(h, f(a), f((a + b) / 2), f(b))\n",
        "    else:\n",
        "        m = n\n",
        "        if n % 2 != 0:\n",
        "            sum_ += simpson38(h, f(a + (n - 3) * h), f(a + (n - 2) * h), f(a + (n - 1) * h), f(b))\n",
        "            m -= 3\n",
        "        if m > 1:\n",
        "            sum_ += simpson13m(h, m, lambda i: f(a + i * h))\n",
        "\n",
        "    return sum_\n",
        "\n",
        "# Exemplo de uso:\n",
        "# Definindo a função a ser integrada, por exemplo, f(x) = x^2\n",
        "f = lambda x: x**2\n",
        "\n",
        "# Definindo os parâmetros\n",
        "a = 0\n",
        "b = 1\n",
        "n = 4\n",
        "\n",
        "# Calculando a integral aproximada\n",
        "resultado = simpson_int(a, b, n, f)\n",
        "print(f\"A integral aproximada usando a regra combinada de Simpson é: {resultado}\")"
      ],
      "metadata": {
        "colab": {
          "base_uri": "https://localhost:8080/"
        },
        "id": "UqE0mNFsCa9x",
        "outputId": "7e98debe-6b85-4372-f344-6f7420ad7bbd"
      },
      "execution_count": 20,
      "outputs": [
        {
          "output_type": "stream",
          "name": "stdout",
          "text": [
            "A integral aproximada usando a regra combinada de Simpson é: 0.020833333333333332\n"
          ]
        }
      ]
    },
    {
      "cell_type": "markdown",
      "source": [
        "# Questões"
      ],
      "metadata": {
        "id": "W_jvE_MvENGt"
      }
    },
    {
      "cell_type": "code",
      "source": [
        "# Valores da tabela\n",
        "x = [0, 2.5, 5, 15, 20, 25, 30]\n",
        "F = [0, 7, 9, 14, 10.5, 12, 5]\n",
        "theta = [0.5, 0.9, 1.4, 0.9, 1.3, 1.48, 1.5]\n",
        "\n",
        "# Calculando F(x) * cos(θ(x))\n",
        "Fx_cos_theta = [F[i] * math.cos(theta[i]) for i in range(len(x))]\n",
        "\n",
        "# Grupo 1: Simpson 1/3 Repetido\n",
        "h1 = 2.5\n",
        "\n",
        "\n",
        "simpson13 = (h1 / 3) * (Fx_cos_theta[0] + 4 * Fx_cos_theta[1] + Fx_cos_theta[2])\n",
        "\n",
        "print(f\"simpson13 {simpson13}\")\n"
      ],
      "metadata": {
        "colab": {
          "base_uri": "https://localhost:8080/"
        },
        "id": "D2IVKxVnL2r2",
        "outputId": "9757a28c-68b1-45f9-e3e6-8fa8e16f7445"
      },
      "execution_count": 21,
      "outputs": [
        {
          "output_type": "stream",
          "name": "stdout",
          "text": [
            "simpson13 15.778986164733977\n"
          ]
        }
      ]
    }
  ]
}