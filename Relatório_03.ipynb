{
  "nbformat": 4,
  "nbformat_minor": 0,
  "metadata": {
    "colab": {
      "provenance": [],
      "authorship_tag": "ABX9TyNv4IHHzn+SBUp9Qz0Gxb3G",
      "include_colab_link": true
    },
    "kernelspec": {
      "name": "python3",
      "display_name": "Python 3"
    },
    "language_info": {
      "name": "python"
    }
  },
  "cells": [
    {
      "cell_type": "markdown",
      "metadata": {
        "id": "view-in-github",
        "colab_type": "text"
      },
      "source": [
        "<a href=\"https://colab.research.google.com/github/Frankl1sales/cnc_d/blob/main/Relat%C3%B3rio_03.ipynb\" target=\"_parent\"><img src=\"https://colab.research.google.com/assets/colab-badge.svg\" alt=\"Open In Colab\"/></a>"
      ]
    },
    {
      "cell_type": "markdown",
      "source": [],
      "metadata": {
        "id": "dW6z-PvXD1w0"
      }
    },
    {
      "cell_type": "code",
      "execution_count": null,
      "metadata": {
        "id": "Aam9v9cVCvA-"
      },
      "outputs": [],
      "source": [
        "# Algoritmo Polinômio de Lagrange\n",
        "# Objetivo: Interpolar valor usando polinômio de Lagrange\n",
        "\n",
        "# Função para calcular o polinômio de Lagrange\n",
        "def lagrange_interpolation(x, y, z):\n",
        "    m = len(x)  # número de pontos\n",
        "    Pz = 0  # valor interpolado\n",
        "\n",
        "    for i in range(m):\n",
        "        c = 1\n",
        "        d = 1\n",
        "        for j in range(m):\n",
        "            if i != j:\n",
        "                c *= (z - x[j])\n",
        "                d *= (x[i] - x[j])\n",
        "        Pz += y[i] * (c / d)\n",
        "\n",
        "    return Pz"
      ]
    },
    {
      "cell_type": "code",
      "source": [
        "# Exemplo de uso\n",
        "x = [-1, 0, 2]  # vetor de abscissas\n",
        "y = [4, 1, -1]  # vetor de ordenadas\n",
        "z = 0.8  # valor a interpolar\n",
        "\n",
        "# Calculando o valor interpolado\n",
        "Pz = lagrange_interpolation(x, y, z)\n",
        "print(f'O valor interpolado em z={z} é Pz={Pz}')"
      ],
      "metadata": {
        "colab": {
          "base_uri": "https://localhost:8080/"
        },
        "id": "EtQHpmY8DUGZ",
        "outputId": "6faa0917-f088-4ddd-851c-24a9e0eedeb6"
      },
      "execution_count": null,
      "outputs": [
        {
          "output_type": "stream",
          "name": "stdout",
          "text": [
            "O valor interpolado em z=0.8 é Pz=-0.43999999999999995\n"
          ]
        }
      ]
    },
    {
      "cell_type": "code",
      "source": [
        "def newton_interpolation(x, y, z):\n",
        "    m = len(x)  # número de pontos\n",
        "    Dely = y.copy()  # inicializa o vetor das diferenças divididas com os valores de y\n",
        "\n",
        "    # Construção das diferenças divididas\n",
        "    for i in range(1, m):\n",
        "        for k in range(m - 1, i - 1, -1):\n",
        "            Dely[k] = (Dely[k] - Dely[k - 1]) / (x[k] - x[k - i])\n",
        "\n",
        "    # Avaliação do polinômio pelo método de Horner\n",
        "    Pz = Dely[m - 1]\n",
        "    for i in range(m - 2, -1, -1):\n",
        "        Pz = Pz * (z - x[i]) + Dely[i]\n",
        "\n",
        "    return Pz"
      ],
      "metadata": {
        "id": "Na6MM5ooD24G"
      },
      "execution_count": null,
      "outputs": []
    },
    {
      "cell_type": "code",
      "source": [
        " # Exemplo de uso\n",
        "x = [1, 2, 3]  # vetor de abscissas\n",
        "y = [2, 3, 5]  # vetor de ordenadas\n",
        "z = 2.5  # valor a interpolar\n",
        "\n",
        "# Calculando o valor interpolado\n",
        "Pz = newton_interpolation(x, y, z)\n",
        "print(f'O valor interpolado em z={z} é Pz={Pz}')"
      ],
      "metadata": {
        "colab": {
          "base_uri": "https://localhost:8080/"
        },
        "id": "cbVKW-UVD5Rq",
        "outputId": "637daeb6-7eea-4916-f9c0-534f36db726d"
      },
      "execution_count": null,
      "outputs": [
        {
          "output_type": "stream",
          "name": "stdout",
          "text": [
            "O valor interpolado em z=2.5 é Pz=3.875\n"
          ]
        }
      ]
    }
  ]
}